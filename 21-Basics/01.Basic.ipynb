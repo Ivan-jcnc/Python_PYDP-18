{
 "cells": [
  {
   "cell_type": "markdown",
   "metadata": {},
   "source": [
    "### 1. Векторы"
   ]
  },
  {
   "cell_type": "markdown",
   "metadata": {},
   "source": [
    "Даны векторы x = (1,1), y = (2, 0) и z = (0,2)  \n",
    "Необходимо в Python:  \n",
    "    ●Изобразить векторы на экране  \n",
    "    ●Изобразить точку x + y + z  \n",
    "    ●Найти угол между векторами x и y"
   ]
  },
  {
   "cell_type": "code",
   "execution_count": 62,
   "metadata": {},
   "outputs": [],
   "source": [
    "import numpy as np\n",
    "import matplotlib.pyplot as plt"
   ]
  },
  {
   "cell_type": "code",
   "execution_count": 3,
   "metadata": {},
   "outputs": [],
   "source": [
    "x = np.array([1,1])\n",
    "y = np.array([2,0])\n",
    "z = np.array([0,2])"
   ]
  },
  {
   "cell_type": "code",
   "execution_count": 4,
   "metadata": {},
   "outputs": [
    {
     "data": {
      "text/plain": [
       "array([3, 3])"
      ]
     },
     "execution_count": 4,
     "metadata": {},
     "output_type": "execute_result"
    }
   ],
   "source": [
    "a = x+y+z\n",
    "a"
   ]
  },
  {
   "cell_type": "code",
   "execution_count": 18,
   "metadata": {
    "scrolled": true
   },
   "outputs": [
    {
     "data": {
      "text/plain": [
       "Text(2.6, 2.8, 'x + y + z')"
      ]
     },
     "execution_count": 18,
     "metadata": {},
     "output_type": "execute_result"
    },
    {
     "data": {
      "image/png": "[encoded data removed]",
      "text/plain": [
       "<Figure size 432x288 with 1 Axes>"
      ]
     },
     "metadata": {
      "needs_background": "light"
     },
     "output_type": "display_data"
    }
   ],
   "source": [
    "plt.plot(x[0], x[1], 'b+')\n",
    "plt.annotate('x=(1,1)', xy=(1.1,1))\n",
    "plt.plot(y[0], y[1], 'r*')\n",
    "plt.annotate('y=(2,0)', xy=(2.1,0))\n",
    "plt.plot(z[0], z[1], 'yo')\n",
    "plt.annotate('z=(0,2)', xy=(0.1,2))\n",
    "plt.plot(a[0], a[1], 'bo')\n",
    "plt.annotate('x + y + z', xy=(2.6,2.8))"
   ]
  },
  {
   "cell_type": "markdown",
   "metadata": {},
   "source": [
    "2 вариант построения векторов"
   ]
  },
  {
   "cell_type": "code",
   "execution_count": 43,
   "metadata": {},
   "outputs": [
    {
     "data": {
      "image/png": "[encoded data removed]",
      "text/plain": [
       "<Figure size 432x288 with 1 Axes>"
      ]
     },
     "metadata": {
      "needs_background": "light"
     },
     "output_type": "display_data"
    }
   ],
   "source": [
    "ax = plt.axes()\n",
    "\n",
    "\n",
    "ax.arrow( 0, 0, x[0], x[1], head_width=0.1, color='blue')\n",
    "plt.annotate('x', xy=(1.2,1))\n",
    "ax.arrow( 0, 0, y[0], y[1], head_width=0.1, color='red')\n",
    "plt.annotate('y', xy=(2.3,0))\n",
    "ax.arrow( 0, 0, z[0], z[1], head_width=0.1, color='yellow')\n",
    "plt.annotate('z', xy=(0.2,2))\n",
    "plt.plot(a[0], a[1], 'bo')\n",
    "plt.annotate('x + y + z', xy=(2.6,2.8))\n",
    "\n",
    "plt.show()"
   ]
  },
  {
   "cell_type": "markdown",
   "metadata": {},
   "source": [
    "Найти угол между векторами x и y"
   ]
  },
  {
   "cell_type": "code",
   "execution_count": 50,
   "metadata": {},
   "outputs": [
    {
     "data": {
      "text/plain": [
       "45.00000000000001"
      ]
     },
     "execution_count": 50,
     "metadata": {},
     "output_type": "execute_result"
    }
   ],
   "source": [
    "np.rad2deg(np.arccos(np.dot(x,y)/(np.linalg.norm(x)*np.linalg.norm(y)))) #np.rad2deg - перевод радиан в градусы"
   ]
  },
  {
   "cell_type": "markdown",
   "metadata": {},
   "source": [
    "### 2. Матрицы"
   ]
  },
  {
   "cell_type": "markdown",
   "metadata": {},
   "source": [
    "●Создайте матрицу 3 на 3, заполненную числами от 1 до 9  \n",
    "●Прибавьте к ней матрицу с единицами на диагонали  \n",
    "●Умножьте полученную матрицу на вектор (1, 2, 3)"
   ]
  },
  {
   "cell_type": "code",
   "execution_count": 91,
   "metadata": {},
   "outputs": [
    {
     "name": "stdout",
     "output_type": "stream",
     "text": [
      "A: [[1 2 3]\n",
      " [4 5 6]\n",
      " [7 8 9]]\n",
      "B: [[1. 0. 0.]\n",
      " [0. 1. 0.]\n",
      " [0. 0. 1.]]\n",
      "C: [1 2 3]\n"
     ]
    }
   ],
   "source": [
    "A = np.array([[1,2,3,], [4,5,6], [7,8,9]])\n",
    "B = np.eye(3)\n",
    "C = np.arange(1,4)\n",
    "print('A:',A)\n",
    "print('B:',B)\n",
    "print('C:',C)"
   ]
  },
  {
   "cell_type": "code",
   "execution_count": 92,
   "metadata": {},
   "outputs": [
    {
     "data": {
      "text/plain": [
       "array([[ 2.,  2.,  3.],\n",
       "       [ 4.,  6.,  6.],\n",
       "       [ 7.,  8., 10.]])"
      ]
     },
     "execution_count": 92,
     "metadata": {},
     "output_type": "execute_result"
    }
   ],
   "source": [
    "AB = A+B\n",
    "AB"
   ]
  },
  {
   "cell_type": "code",
   "execution_count": 96,
   "metadata": {},
   "outputs": [
    {
     "data": {
      "text/plain": [
       "array([15., 34., 53.])"
      ]
     },
     "execution_count": 96,
     "metadata": {},
     "output_type": "execute_result"
    }
   ],
   "source": [
    "ABC = np.matmul(AB, C)\n",
    "ABC"
   ]
  },
  {
   "cell_type": "markdown",
   "metadata": {},
   "source": [
    "### 3. Функции"
   ]
  },
  {
   "cell_type": "markdown",
   "metadata": {},
   "source": [
    "Посчитайте значение первой и второй производной функции в точке x = 1"
   ]
  },
  {
   "cell_type": "code",
   "execution_count": 117,
   "metadata": {},
   "outputs": [],
   "source": [
    "import sympy as sym"
   ]
  },
  {
   "cell_type": "code",
   "execution_count": 118,
   "metadata": {},
   "outputs": [
    {
     "name": "stdout",
     "output_type": "stream",
     "text": [
      "Первая производная: 3*x*(6*x + 3)*(x**2 + x)**2 + 3*(x**2 + x)**3\n",
      "Первая производная в точке x = 1: 132\n"
     ]
    }
   ],
   "source": [
    "f1 = sym.diff(3*x*((x**2)+x)**3, x, 1) #Дифференциация по x, 1 раз\n",
    "print('Первая производная:', f1)\n",
    "print('Первая производная в точке x = 1:',f1.subs(x,1))"
   ]
  },
  {
   "cell_type": "code",
   "execution_count": 119,
   "metadata": {},
   "outputs": [
    {
     "name": "stdout",
     "output_type": "stream",
     "text": [
      "Вторая производная: 18*x**2*(x + 1)*(x*(x + 1) + (x + 1)*(2*x + 1) + (2*x + 1)**2)\n",
      "Вторая производная в точке x = 1: 612\n"
     ]
    }
   ],
   "source": [
    "f2 = sym.diff(3*x*((x**2)+x)**3, x, 2) #Дифференциация по x, 2 раза\n",
    "print('Вторая производная:', f2)\n",
    "print('Вторая производная в точке x = 1:',f2.subs(x,1))"
   ]
  },
  {
   "cell_type": "code",
   "execution_count": null,
   "metadata": {},
   "outputs": [],
   "source": []
  }
 ],
 "metadata": {
  "kernelspec": {
   "display_name": "Python 3",
   "language": "python",
   "name": "python3"
  },
  "language_info": {
   "codemirror_mode": {
    "name": "ipython",
    "version": 3
   },
   "file_extension": ".py",
   "mimetype": "text/x-python",
   "name": "python",
   "nbconvert_exporter": "python",
   "pygments_lexer": "ipython3",
   "version": "3.8.5"
  }
 },
 "nbformat": 4,
 "nbformat_minor": 4
}
