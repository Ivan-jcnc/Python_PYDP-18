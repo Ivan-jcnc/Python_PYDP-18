{
 "cells": [
  {
   "cell_type": "markdown",
   "metadata": {},
   "source": [
    "## Домашнее задание «Сегментация и детекция объектов»"
   ]
  },
  {
   "cell_type": "markdown",
   "metadata": {},
   "source": [
    "Построить классификатор изображений рукописного ввода на базе MNIST.\n",
    "\n",
    "Классификатор предлагается строить на признаках, полученных в результате предобработки изображений, например, гистограммы градиентов (HOG) или результат PCA преобразования.\n",
    "\n",
    "В качестве модели классификатора можно использовать любую известную Вам модель, за исключением сверточных нейронных сетей.\n",
    "\n",
    "Критерием качества классификатора является метрика accuracy. Для получения зачета по данной работе, значение метрики accuracy должно быть больше 0.6."
   ]
  },
  {
   "cell_type": "code",
   "execution_count": 1,
   "metadata": {},
   "outputs": [],
   "source": [
    "import cv2\n",
    "import numpy as np\n",
    "import matplotlib.pyplot as plt"
   ]
  },
  {
   "cell_type": "code",
   "execution_count": 51,
   "metadata": {},
   "outputs": [],
   "source": [
    "train = np.loadtxt('train.csv', delimiter=',', skiprows=1)\n",
    "test = np.loadtxt('test.csv', delimiter=',', skiprows=1)"
   ]
  },
  {
   "cell_type": "code",
   "execution_count": 52,
   "metadata": {},
   "outputs": [],
   "source": [
    "train_label = train[:,0] # разметка из train в отдельную переменную"
   ]
  },
  {
   "cell_type": "code",
   "execution_count": null,
   "metadata": {},
   "outputs": [],
   "source": []
  },
  {
   "cell_type": "code",
   "execution_count": 22,
   "metadata": {},
   "outputs": [],
   "source": [
    "# просто посмотреть картинки\n",
    "train_img = np.reshape(train[:,1:], (len(train[:,1:]), 28, 28))\n",
    "test_img = np.resize(test, (test.shape[0], 28, 28))"
   ]
  },
  {
   "cell_type": "code",
   "execution_count": 45,
   "metadata": {
    "scrolled": true
   },
   "outputs": [
    {
     "data": {
      "image/png": "[encoded data removed]",
      "text/plain": [
       "<Figure size 432x288 with 1 Axes>"
      ]
     },
     "metadata": {
      "needs_background": "light"
     },
     "output_type": "display_data"
    }
   ],
   "source": [
    "plt.imshow(train_img[25789], cmap='gray');"
   ]
  },
  {
   "cell_type": "code",
   "execution_count": 139,
   "metadata": {},
   "outputs": [
    {
     "data": {
      "image/png": "[encoded data removed]",
      "text/plain": [
       "<Figure size 432x288 with 1 Axes>"
      ]
     },
     "metadata": {
      "needs_background": "light"
     },
     "output_type": "display_data"
    }
   ],
   "source": [
    "plt.imshow(test_img[2], cmap='gray');"
   ]
  },
  {
   "cell_type": "code",
   "execution_count": null,
   "metadata": {},
   "outputs": [],
   "source": []
  },
  {
   "cell_type": "code",
   "execution_count": 57,
   "metadata": {},
   "outputs": [],
   "source": [
    "x =  train[:,1:]"
   ]
  },
  {
   "cell_type": "code",
   "execution_count": 58,
   "metadata": {},
   "outputs": [],
   "source": [
    "# центрирование данных\n",
    "X_mean = x.mean(axis=0)\n",
    "x -=X_mean"
   ]
  },
  {
   "cell_type": "code",
   "execution_count": 60,
   "metadata": {},
   "outputs": [],
   "source": [
    "#матрица ковариации признаков\n",
    "cov = np.dot(x.T, x)/x.shape[0]\n",
    "# матрица ковариации должна быть квадратной"
   ]
  },
  {
   "cell_type": "code",
   "execution_count": 63,
   "metadata": {},
   "outputs": [],
   "source": [
    "U, S, _ = np.linalg.svd(cov)\n",
    "# U - собственные вектора матрицы ковариации\n",
    "# S - собственные значения"
   ]
  },
  {
   "cell_type": "markdown",
   "metadata": {},
   "source": [
    "Мы получили собственные вектора - S (ненулевой вектор , который при умножении на некоторую квадратную матрицу превращается в самого же себя с числовым коэффициентом , называется собственным вектором матрицы). По сути, в собственных вектрах записана информативность."
   ]
  },
  {
   "cell_type": "markdown",
   "metadata": {},
   "source": [
    "### Понижение размерности"
   ]
  },
  {
   "cell_type": "code",
   "execution_count": 72,
   "metadata": {
    "scrolled": true
   },
   "outputs": [
    {
     "name": "stdout",
     "output_type": "stream",
     "text": [
      "n comp=42 S=0.800\n"
     ]
    }
   ],
   "source": [
    "S_thr = 0.8 # задаем порог для накопленной суммы собственных значений\n",
    "\n",
    "# определяем необходимое число компонент для заданного порога\n",
    "\n",
    "n_comp  = np.argmax(np.where(S_cumsum > S_thr, 1, 0))\n",
    "print('n comp=%d S=%.3f' % (n_comp, S_cumsum[n_comp]))"
   ]
  },
  {
   "cell_type": "markdown",
   "metadata": {},
   "source": [
    "42 вектора описывают 80 процентов информативности. Картинку раскладываем на 42 собственных вектора и получаем 42 координаты"
   ]
  },
  {
   "cell_type": "code",
   "execution_count": 73,
   "metadata": {},
   "outputs": [],
   "source": [
    "# получаем сжатое представление объектов\n",
    "Xrot_reduced = np.dot(x, U [:, : n_comp])"
   ]
  },
  {
   "cell_type": "code",
   "execution_count": 74,
   "metadata": {},
   "outputs": [
    {
     "data": {
      "text/plain": [
       "(42000, 42)"
      ]
     },
     "execution_count": 74,
     "metadata": {},
     "output_type": "execute_result"
    }
   ],
   "source": [
    "Xrot_reduced.shape"
   ]
  },
  {
   "cell_type": "code",
   "execution_count": 83,
   "metadata": {},
   "outputs": [
    {
     "data": {
      "text/plain": [
       "array([-661.59577975,  699.31132821,  183.28203965, -120.61139445,\n",
       "        -81.08181052, -489.46188551, -683.47083797,   85.55938661,\n",
       "       -348.5480522 , -202.97854522, -364.55994931,   21.26575592,\n",
       "       -404.44144851,  -97.05254548,   61.83993555,  -86.78002717,\n",
       "         17.65814358,  285.48469649,   18.82730277,  207.64273128,\n",
       "         44.24360034,  221.89436971,  -57.22745918, -148.67496175,\n",
       "         14.34358893,   41.55603106,  333.7236588 , -208.97888078,\n",
       "        -59.81363057,   84.55446472,   -6.9429306 ,    5.29995065,\n",
       "       -195.70933579,   53.22922851,   -6.88959872,  146.88658286,\n",
       "        -49.40662266,   88.06398024, -161.58921015,  140.78761685,\n",
       "        104.95905976,  -20.03106065])"
      ]
     },
     "execution_count": 83,
     "metadata": {},
     "output_type": "execute_result"
    }
   ],
   "source": [
    "Xrot_reduced[0]"
   ]
  },
  {
   "cell_type": "code",
   "execution_count": 80,
   "metadata": {},
   "outputs": [
    {
     "data": {
      "text/plain": [
       "784"
      ]
     },
     "execution_count": 80,
     "metadata": {},
     "output_type": "execute_result"
    }
   ],
   "source": [
    "len(x[0])"
   ]
  },
  {
   "cell_type": "code",
   "execution_count": 81,
   "metadata": {},
   "outputs": [
    {
     "data": {
      "text/plain": [
       "42"
      ]
     },
     "execution_count": 81,
     "metadata": {},
     "output_type": "execute_result"
    }
   ],
   "source": [
    "len(Xrot_reduced[0])"
   ]
  },
  {
   "cell_type": "markdown",
   "metadata": {},
   "source": [
    "количество features снизилось с 784 до 42 (или осталось примерно 6% данных, которые описывают 80% информации)"
   ]
  },
  {
   "cell_type": "markdown",
   "metadata": {},
   "source": [
    "### Восстановление картинок из собственных векторов (просто посмотреть)"
   ]
  },
  {
   "cell_type": "markdown",
   "metadata": {},
   "source": [
    "Чтоб визуализировать картинки из собственных векторов, надо восстановить. Перемножаем собственные вектора на матрицу U"
   ]
  },
  {
   "cell_type": "code",
   "execution_count": 84,
   "metadata": {},
   "outputs": [],
   "source": [
    "Xrot_restored = np.dot(Xrot_reduced, U[:, :n_comp].T)"
   ]
  },
  {
   "cell_type": "code",
   "execution_count": 87,
   "metadata": {
    "scrolled": false
   },
   "outputs": [
    {
     "data": {
      "image/png": "[encoded data removed]",
      "text/plain": [
       "<Figure size 1440x720 with 6 Axes>"
      ]
     },
     "metadata": {
      "needs_background": "light"
     },
     "output_type": "display_data"
    }
   ],
   "source": [
    "# хоть и для классификации этого не нужно\n",
    "fig = plt.figure(figsize=(20, 10))\n",
    "for i, img in enumerate(Xrot_restored[0:6], 1):\n",
    "    subplot = fig.add_subplot(1 , 7, i)\n",
    "    img_ = img + X_mean\n",
    "    plt.imshow(img_.reshape((28,28)) + X_mean.reshape((28, 28)), cmap='gray');"
   ]
  },
  {
   "cell_type": "markdown",
   "metadata": {},
   "source": [
    "### Классификация"
   ]
  },
  {
   "cell_type": "code",
   "execution_count": 166,
   "metadata": {},
   "outputs": [],
   "source": [
    "from sklearn.linear_model import LogisticRegression\n",
    "from sklearn.svm import SVC, LinearSVC\n",
    "from sklearn.model_selection import train_test_split\n",
    "from sklearn.metrics import classification_report"
   ]
  },
  {
   "cell_type": "code",
   "execution_count": 157,
   "metadata": {},
   "outputs": [],
   "source": [
    "model = LogisticRegression(max_iter=42000)"
   ]
  },
  {
   "cell_type": "code",
   "execution_count": 158,
   "metadata": {},
   "outputs": [],
   "source": [
    "X_train, X_test, y_train, y_test = train_test_split(Xrot_reduced, train_label, test_size=0.3)"
   ]
  },
  {
   "cell_type": "code",
   "execution_count": 159,
   "metadata": {
    "scrolled": true
   },
   "outputs": [
    {
     "data": {
      "text/plain": [
       "LogisticRegression(max_iter=42000)"
      ]
     },
     "execution_count": 159,
     "metadata": {},
     "output_type": "execute_result"
    }
   ],
   "source": [
    "model.fit(X_train, y_train)"
   ]
  },
  {
   "cell_type": "code",
   "execution_count": 160,
   "metadata": {},
   "outputs": [
    {
     "data": {
      "text/plain": [
       "array([1., 2., 8., ..., 5., 4., 4.])"
      ]
     },
     "execution_count": 160,
     "metadata": {},
     "output_type": "execute_result"
    }
   ],
   "source": [
    "model.predict(X_test)"
   ]
  },
  {
   "cell_type": "code",
   "execution_count": 164,
   "metadata": {},
   "outputs": [
    {
     "data": {
      "text/plain": [
       "0.9064625850340136"
      ]
     },
     "execution_count": 164,
     "metadata": {},
     "output_type": "execute_result"
    }
   ],
   "source": [
    "model.score(X_train, y_train)"
   ]
  },
  {
   "cell_type": "code",
   "execution_count": 165,
   "metadata": {
    "scrolled": true
   },
   "outputs": [
    {
     "data": {
      "text/plain": [
       "0.9004761904761904"
      ]
     },
     "execution_count": 165,
     "metadata": {},
     "output_type": "execute_result"
    }
   ],
   "source": [
    "model.score(X_test, y_test)"
   ]
  },
  {
   "cell_type": "code",
   "execution_count": 167,
   "metadata": {},
   "outputs": [
    {
     "name": "stdout",
     "output_type": "stream",
     "text": [
      "              precision    recall  f1-score   support\n",
      "\n",
      "         0.0       0.96      0.96      0.96      1255\n",
      "         1.0       0.95      0.97      0.96      1377\n",
      "         2.0       0.89      0.87      0.88      1257\n",
      "         3.0       0.87      0.86      0.87      1304\n",
      "         4.0       0.89      0.91      0.90      1208\n",
      "         5.0       0.85      0.84      0.84      1130\n",
      "         6.0       0.93      0.94      0.93      1256\n",
      "         7.0       0.91      0.92      0.92      1365\n",
      "         8.0       0.88      0.84      0.86      1235\n",
      "         9.0       0.86      0.88      0.87      1213\n",
      "\n",
      "    accuracy                           0.90     12600\n",
      "   macro avg       0.90      0.90      0.90     12600\n",
      "weighted avg       0.90      0.90      0.90     12600\n",
      "\n"
     ]
    }
   ],
   "source": [
    "print(classification_report(y_test, model.predict(X_test)))"
   ]
  }
 ],
 "metadata": {
  "kernelspec": {
   "display_name": "Python 3",
   "language": "python",
   "name": "python3"
  },
  "language_info": {
   "codemirror_mode": {
    "name": "ipython",
    "version": 3
   },
   "file_extension": ".py",
   "mimetype": "text/x-python",
   "name": "python",
   "nbconvert_exporter": "python",
   "pygments_lexer": "ipython3",
   "version": "3.8.5"
  }
 },
 "nbformat": 4,
 "nbformat_minor": 4
}
