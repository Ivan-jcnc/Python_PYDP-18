{
 "cells": [
  {
   "cell_type": "code",
   "execution_count": null,
   "metadata": {},
   "outputs": [],
   "source": [
    "1. Задание 1. Написать код, который проверяет, какая из заданных двух строк длиннее"
   ]
  },
  {
   "cell_type": "code",
   "execution_count": 18,
   "metadata": {
    "scrolled": false
   },
   "outputs": [
    {
     "name": "stdout",
     "output_type": "stream",
     "text": [
      "Фраза 2 длиннее фразы 1\n",
      "Конец программы\n"
     ]
    }
   ],
   "source": [
    " \n",
    "phrase_1='Harjoitus tekee mestariin'\n",
    "phrase_2='Далай Лама обещал - повидаемся опять'\n",
    "if len(phrase_1)>len(phrase_2):\n",
    "    print('Фраза 1 длиннее фразы 2')\n",
    "elif len(phrase_1)<len(phrase_2): \n",
    "    print('Фраза 2 длиннее фразы 1')\n",
    "else: \n",
    "    print('Фразы одинаковой длины')\n",
    "print('Конец программы')\n",
    "\n"
   ]
  },
  {
   "cell_type": "code",
   "execution_count": null,
   "metadata": {},
   "outputs": [],
   "source": [
    "2. Задание 2. Написать программу, которая выведет, является ли введенный год високосным"
   ]
  },
  {
   "cell_type": "code",
   "execution_count": 38,
   "metadata": {
    "scrolled": false
   },
   "outputs": [
    {
     "name": "stdout",
     "output_type": "stream",
     "text": [
      "Високосный год\n"
     ]
    }
   ],
   "source": [
    "year=1600\n",
    "if year%4!=0 or (year%100==0 and year%400!=0):\n",
    "    print('Обычный год')\n",
    "else:\n",
    "    print('Високосный год')"
   ]
  },
  {
   "cell_type": "markdown",
   "metadata": {},
   "source": [
    "3. Задание 3. Написать программу, которая запрашивает месяц и дату рождения и выводит соответствующий знак зодиака"
   ]
  },
  {
   "cell_type": "code",
   "execution_count": 50,
   "metadata": {},
   "outputs": [
    {
     "name": "stdout",
     "output_type": "stream",
     "text": [
      "Введите день: 15\n",
      "Введите месяц: июнь\n",
      "Близнецы\n",
      "Конец программы\n"
     ]
    }
   ],
   "source": [
    "day=int(input('Введите день: '))\n",
    "month=str(input('Введите месяц: '))\n",
    "if (day>=21 and day<=31 and month== 'март') or (day>=1 and day<=20 and month== 'апрель'):\n",
    "    print('Овен')\n",
    "elif (day>=21 and day<=30 and month== 'апрель') or (day>=1 and day<=21 and month== 'май'):\n",
    "    print('Телец')\n",
    "elif (day>=22 and day<=31 and month== 'май') or (day>=1 and day<=21 and month== 'июнь'):\n",
    "    print('Близнецы')\n",
    "elif (day>=22 and day<=30 and month== 'июнь') or (day>=1 and day<=22 and month== 'июль'):\n",
    "    print('Рак')\n",
    "elif (day>=23 and day<=31 and month== 'июль') or (day>=1 and day<=21 and month== 'август'):\n",
    "    print('Лев')\n",
    "elif (day>=22 and day<=31 and month== 'август') or (day>=1 and day<=23 and month== 'сентябрь'):\n",
    "    print('Дева')\n",
    "elif (day>=24 and day<=30 and month== 'сентябрь') or (day>=1 and day<=23 and month== 'октябрь'):\n",
    "    print('Весы')\n",
    "elif (day>=24 and day<=31 and month== 'октябрь') or (day>=1 and day<=22 and month== 'ноябрь'):\n",
    "    print('Скорпион')\n",
    "elif (day>=23 and day<=30 and month== 'ноябрь') or (day>=1 and day<=22 and month== 'декабрь'):\n",
    "    print('Стрелец')\n",
    "elif (day>=23 and day<=31 and month== 'декабрь') or (day>=1 and day<=20 and month== 'январь'):\n",
    "    print('Козерог')\n",
    "elif (day>=21 and day<=31 and month== 'январь') or (day>=1 and day<=19 and month== 'февраль'):\n",
    "    print('Водолей')\n",
    "elif (day>=20 and day<=29 and month== 'февраль') or (day>=1 and day<=20 and month== 'март'):\n",
    "    print('Рыбы')\n",
    "else:\n",
    "    print('Неправильно введена дата')\n",
    "print('Конец программы')"
   ]
  },
  {
   "cell_type": "code",
   "execution_count": null,
   "metadata": {},
   "outputs": [],
   "source": [
    "4. Задание 4. Программа для подбора упаковок по размерам товара"
   ]
  },
  {
   "cell_type": "code",
   "execution_count": 92,
   "metadata": {},
   "outputs": [],
   "source": [
    "width=10 # ширина в сантиметрах\n",
    "length=14 # длина в сантиметрах\n",
    "height=47 # высота в сантиметрах"
   ]
  },
  {
   "cell_type": "code",
   "execution_count": 93,
   "metadata": {},
   "outputs": [
    {
     "name": "stdout",
     "output_type": "stream",
     "text": [
      "Коробка №2\n"
     ]
    }
   ],
   "source": [
    "if (width<15 and length<15 and height<15):\n",
    "    print('Коробка №1')\n",
    "elif ((width>=15 and width<50) or (length>=15 and length<50) or (height>=15 and height<50)):\n",
    "    print('Коробка №2')\n",
    "elif length>=200:\n",
    "    print('Упаковка для лыж')\n",
    "else: print('Стандартная коробка №3')"
   ]
  },
  {
   "cell_type": "markdown",
   "metadata": {},
   "source": [
    "5. Задание 5. Написать программу, которая определяет, является ли билет счастливым "
   ]
  },
  {
   "cell_type": "code",
   "execution_count": 135,
   "metadata": {
    "scrolled": true
   },
   "outputs": [
    {
     "name": "stdout",
     "output_type": "stream",
     "text": [
      "Введите шестизначный номер: 456123\n",
      "Обычный билет\n"
     ]
    }
   ],
   "source": [
    "number=int(input('Введите шестизначный номер: '))\n",
    "if 100000<=number<1000000: \n",
    "    n1=number//100000\n",
    "    n2=(number-(n1*100000))//10000\n",
    "    n3=(number-(n1*100000)-(n2*10000))//1000\n",
    "    n4=(number-(n1*100000)-(n2*10000)-(n3*1000))//100\n",
    "    n5=(number-(n1*100000)-(n2*10000)-(n3*1000)-(n4*100))//10\n",
    "    n6=(number-(n1*100000)-(n2*10000)-(n3*1000)-(n4*100)-(n5*10))\n",
    "    sum_left=n1+n2+n3\n",
    "    sum_right=n4+n5+n6\n",
    "    if sum_left==sum_right:\n",
    "        print('Счастливый билет')\n",
    "    else:\n",
    "        print('Обычный билет')\n",
    "else:\n",
    "    print('Число не является шестизначным')"
   ]
  },
  {
   "cell_type": "code",
   "execution_count": null,
   "metadata": {},
   "outputs": [],
   "source": [
    "6. Задание 6. Написать программу, которая сможет вычислять площади трех фигур"
   ]
  },
  {
   "cell_type": "code",
   "execution_count": 172,
   "metadata": {
    "scrolled": true
   },
   "outputs": [
    {
     "name": "stdout",
     "output_type": "stream",
     "text": [
      "Введите тип фигуры: прямоугольник\n",
      "введите длину прямоугольника: 4\n",
      "введите ширину прямоугольника: 9\n",
      "Площадь прямоугольника: 36\n"
     ]
    }
   ],
   "source": [
    "import math\n",
    "figure=str(input('Введите тип фигуры: '))\n",
    "if figure=='круг':\n",
    "    rad=int(input('Введите радиус: '))\n",
    "    print('Площадь круга: ', math.pi*rad**2)\n",
    "elif figure=='треугольник':\n",
    "    a=int(input('введите длину a: '))\n",
    "    b=int(input('введите длину b: '))\n",
    "    c=int(input('введите длину c: '))\n",
    "    print('Площадь треугольника: ', math.sqrt(((a+b+c)/2)*(((a+b+c)/2)-a)*(((a+b+c)/2)-b)*(((a+b+c)/2)-c)))\n",
    "elif figure=='прямоугольник':\n",
    "    x=int(input('введите длину прямоугольника: '))\n",
    "    y=int(input('введите ширину прямоугольника: '))\n",
    "    print('Площадь прямоугольника:', x*y)\n",
    "else:\n",
    "    print('Введите требуемую фигуру')"
   ]
  }
 ],
 "metadata": {
  "kernelspec": {
   "display_name": "Python 3",
   "language": "python",
   "name": "python3"
  },
  "language_info": {
   "codemirror_mode": {
    "name": "ipython",
    "version": 3
   },
   "file_extension": ".py",
   "mimetype": "text/x-python",
   "name": "python",
   "nbconvert_exporter": "python",
   "pygments_lexer": "ipython3",
   "version": "3.8.5"
  }
 },
 "nbformat": 4,
 "nbformat_minor": 4
}
