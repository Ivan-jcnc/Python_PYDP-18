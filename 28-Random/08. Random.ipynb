{
 "cells": [
  {
   "cell_type": "markdown",
   "metadata": {},
   "source": [
    "### Домашнее задание №8. Случайные величины и вероятности"
   ]
  },
  {
   "cell_type": "markdown",
   "metadata": {},
   "source": [
    "Задание 1.  \n",
    "Монетку подбрасывают 15 раз, найдите вероятность выпадения простого числа орлов."
   ]
  },
  {
   "cell_type": "code",
   "execution_count": 47,
   "metadata": {},
   "outputs": [],
   "source": [
    "import numpy as np\n",
    "import matplotlib.pyplot as plt"
   ]
  },
  {
   "cell_type": "code",
   "execution_count": 87,
   "metadata": {},
   "outputs": [
    {
     "name": "stdout",
     "output_type": "stream",
     "text": [
      "вероятность выпадения простого числа орлов при подбрасывании монеты 15 раз: 0.3501\n"
     ]
    },
    {
     "data": {
      "image/png": "[encoded data removed]",
      "text/plain": [
       "<Figure size 432x288 with 1 Axes>"
      ]
     },
     "metadata": {
      "needs_background": "light"
     },
     "output_type": "display_data"
    }
   ],
   "source": [
    "trials = 40000 # количество экспериментов\n",
    "count_list = []\n",
    "\n",
    "for i in range(trials):\n",
    "    random_score = np.random.randint(1, 3, 15) # 15 подбрасываний, значения от  1 до 2 \n",
    "    count_ = random_score.tolist().count(2) #количество элементов 2 в списке\n",
    "    count_list.append(count_)\n",
    "    \n",
    "#простые числа в диапазоне от 1 до 15: 2,3,5,7,11,13\n",
    "#Вероятность выпадения простого числа равна сумме вероятностей выпадения отдельных простых чисел: P0 = P2+P3+P5+P7+P11+P13\n",
    "P2 = count_list.count(2)/trials # количество выпадений 2 орлов/общее количество всех попыток\n",
    "P3 = count_list.count(3)/trials\n",
    "P5 = count_list.count(5)/trials\n",
    "P7 = count_list.count(7)/trials\n",
    "P11 = count_list.count(11)/trials\n",
    "P13 = count_list.count(13)/trials\n",
    "P0 = P2+P3+P5+P7+P11+P13\n",
    "\n",
    "plt.hist(count_list) #распределение выпадения количества раз орла\n",
    "print('вероятность выпадения простого числа орлов при подбрасывании монеты 15 раз:', P0)"
   ]
  },
  {
   "cell_type": "markdown",
   "metadata": {},
   "source": [
    "Сумма всех вероятностей выпадения орла равна 1. Если принять, что числа выпадений орлов равновероятны, то вероятность выпадения простого числа орлов будет равна 6/15 = 0.4"
   ]
  },
  {
   "cell_type": "markdown",
   "metadata": {},
   "source": [
    "Задание 2.  \n",
    "Получить интуицию, на что влияют параметры распределений. Построить по 5 функций плотностей с разными параметрами для каждого распределения: нормальное, экспоненциальное, Стьюдента на одном графике."
   ]
  },
  {
   "cell_type": "markdown",
   "metadata": {},
   "source": [
    "Нормальное распределение"
   ]
  },
  {
   "cell_type": "code",
   "execution_count": 143,
   "metadata": {
    "scrolled": false
   },
   "outputs": [],
   "source": [
    "rs_1 = np.random.normal(loc=0, scale=10, size=(10000)) #loc - матожидание, scale - дисперсия\n",
    "rs_2 = np.random.normal(loc=0, scale=25, size=(10000))\n",
    "rs_3 = np.random.normal(loc=100, scale=10, size=(10000))\n",
    "rs_4 = np.random.normal(loc=20, scale=20, size=(10000))\n",
    "rs_5 = np.random.normal(loc=20, scale=10, size=(10000))"
   ]
  },
  {
   "cell_type": "code",
   "execution_count": 144,
   "metadata": {
    "scrolled": true
   },
   "outputs": [
    {
     "data": {
      "image/png": "[encoded data removed]",
      "text/plain": [
       "<Figure size 432x288 with 1 Axes>"
      ]
     },
     "metadata": {
      "needs_background": "light"
     },
     "output_type": "display_data"
    }
   ],
   "source": [
    "plt.hist(rs_1, bins=30, alpha=0.7);\n",
    "plt.hist(rs_2, bins=30, alpha=0.7);\n",
    "plt.hist(rs_3, bins=30, alpha=0.7);\n",
    "plt.hist(rs_4, bins=30, alpha=0.7);\n",
    "plt.hist(rs_5, bins=30, alpha=0.7);"
   ]
  },
  {
   "cell_type": "markdown",
   "metadata": {},
   "source": [
    "Экспоненциальное распределение"
   ]
  },
  {
   "cell_type": "code",
   "execution_count": 148,
   "metadata": {},
   "outputs": [],
   "source": [
    "re_1 = np.random.exponential(1, 10000)\n",
    "re_2 = np.random.exponential(3, 10000)\n",
    "re_3 = np.random.exponential(7, 10000)\n",
    "re_4 = np.random.exponential(11, 10000)\n",
    "re_5 = np.random.exponential(17, 10000)"
   ]
  },
  {
   "cell_type": "code",
   "execution_count": 151,
   "metadata": {
    "scrolled": true
   },
   "outputs": [
    {
     "data": {
      "image/png": "[encoded data removed]",
      "text/plain": [
       "<Figure size 432x288 with 1 Axes>"
      ]
     },
     "metadata": {
      "needs_background": "light"
     },
     "output_type": "display_data"
    }
   ],
   "source": [
    "plt.hist(re_1, bins=40, alpha=0.7);\n",
    "plt.hist(re_2, bins=40, alpha=0.7);\n",
    "plt.hist(re_3, bins=40, alpha=0.7);\n",
    "plt.hist(re_4, bins=40, alpha=0.7);\n",
    "plt.hist(re_5, bins=40, alpha=0.7);"
   ]
  },
  {
   "cell_type": "markdown",
   "metadata": {},
   "source": [
    "Распределение Стьюдента"
   ]
  },
  {
   "cell_type": "code",
   "execution_count": 182,
   "metadata": {},
   "outputs": [],
   "source": [
    "rst_1 = np.random.standard_t(5, 10000)\n",
    "rst_2 = np.random.standard_t(11, 10000)\n",
    "rst_3 = np.random.standard_t(17, 10000)\n",
    "rst_4 = np.random.standard_t(23, 10000)\n",
    "rst_5 = np.random.standard_t(29, 10000)"
   ]
  },
  {
   "cell_type": "code",
   "execution_count": 183,
   "metadata": {
    "scrolled": true
   },
   "outputs": [
    {
     "data": {
      "image/png": "[encoded data removed]",
      "text/plain": [
       "<Figure size 432x288 with 1 Axes>"
      ]
     },
     "metadata": {
      "needs_background": "light"
     },
     "output_type": "display_data"
    }
   ],
   "source": [
    "plt.hist(rst_1, bins=100, alpha=0.7);\n",
    "plt.hist(rst_2, bins=100, alpha=0.7);\n",
    "plt.hist(rst_3, bins=100, alpha=0.7);\n",
    "plt.hist(rst_4, bins=100, alpha=0.7);\n",
    "plt.hist(rst_5, bins=100, alpha=0.7);"
   ]
  }
 ],
 "metadata": {
  "kernelspec": {
   "display_name": "Python 3",
   "language": "python",
   "name": "python3"
  },
  "language_info": {
   "codemirror_mode": {
    "name": "ipython",
    "version": 3
   },
   "file_extension": ".py",
   "mimetype": "text/x-python",
   "name": "python",
   "nbconvert_exporter": "python",
   "pygments_lexer": "ipython3",
   "version": "3.8.5"
  }
 },
 "nbformat": 4,
 "nbformat_minor": 4
}
