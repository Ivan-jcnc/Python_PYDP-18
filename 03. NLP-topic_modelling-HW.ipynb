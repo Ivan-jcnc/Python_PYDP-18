{
 "cells": [
  {
   "cell_type": "markdown",
   "metadata": {},
   "source": [
    "### Классификация по тональности\n",
    "В этом домашнем задании вам предстоит классифицировать по тональности отзывы на банки с сайта banki.ru.\n",
    "\n",
    "Данные содержат непосредственно тексты отзывов, некоторую дополнительную информацию, а также оценку по шкале от 1 до 5."
   ]
  },
  {
   "cell_type": "code",
   "execution_count": 1,
   "metadata": {},
   "outputs": [],
   "source": [
    "import json\n",
    "\n",
    "import bz2\n",
    "import regex\n",
    "from tqdm import tqdm\n",
    "from scipy import sparse"
   ]
  },
  {
   "cell_type": "code",
   "execution_count": 2,
   "metadata": {},
   "outputs": [
    {
     "name": "stdout",
     "output_type": "stream",
     "text": [
      "Populating the interactive namespace from numpy and matplotlib\n"
     ]
    }
   ],
   "source": [
    "import pandas as pd\n",
    "import numpy as np\n",
    "import nltk\n",
    "import matplotlib.pyplot as plt\n",
    "import seaborn as sns\n",
    "%matplotlib inline\n",
    "%pylab inline"
   ]
  },
  {
   "cell_type": "code",
   "execution_count": 3,
   "metadata": {
    "scrolled": true
   },
   "outputs": [
    {
     "name": "stderr",
     "output_type": "stream",
     "text": [
      "201030it [01:40, 2005.13it/s]\n"
     ]
    }
   ],
   "source": [
    "responses = []\n",
    "with bz2.BZ2File('banki_responses.json.bz2', 'r') as thefile:\n",
    "    for row in tqdm(thefile):\n",
    "        resp = json.loads(row)\n",
    "        if not resp['rating_not_checked'] and (len(resp['text'].split()) > 0):\n",
    "            responses.append(resp)"
   ]
  },
  {
   "cell_type": "code",
   "execution_count": 26,
   "metadata": {},
   "outputs": [
    {
     "data": {
      "text/plain": [
       "153499"
      ]
     },
     "execution_count": 26,
     "metadata": {},
     "output_type": "execute_result"
    }
   ],
   "source": [
    "len(responses)"
   ]
  },
  {
   "cell_type": "code",
   "execution_count": 4,
   "metadata": {},
   "outputs": [],
   "source": [
    "responses_df = pd.DataFrame.from_records(responses)"
   ]
  },
  {
   "cell_type": "code",
   "execution_count": 5,
   "metadata": {},
   "outputs": [
    {
     "data": {
      "text/html": [
       "<div>\n",
       "<style scoped>\n",
       "    .dataframe tbody tr th:only-of-type {\n",
       "        vertical-align: middle;\n",
       "    }\n",
       "\n",
       "    .dataframe tbody tr th {\n",
       "        vertical-align: top;\n",
       "    }\n",
       "\n",
       "    .dataframe thead th {\n",
       "        text-align: right;\n",
       "    }\n",
       "</style>\n",
       "<table border=\"1\" class=\"dataframe\">\n",
       "  <thead>\n",
       "    <tr style=\"text-align: right;\">\n",
       "      <th></th>\n",
       "      <th>city</th>\n",
       "      <th>rating_not_checked</th>\n",
       "      <th>title</th>\n",
       "      <th>num_comments</th>\n",
       "      <th>bank_license</th>\n",
       "      <th>author</th>\n",
       "      <th>bank_name</th>\n",
       "      <th>datetime</th>\n",
       "      <th>text</th>\n",
       "      <th>rating_grade</th>\n",
       "    </tr>\n",
       "  </thead>\n",
       "  <tbody>\n",
       "    <tr>\n",
       "      <th>0</th>\n",
       "      <td>г. Москва</td>\n",
       "      <td>False</td>\n",
       "      <td>Жалоба</td>\n",
       "      <td>0</td>\n",
       "      <td>лицензия № 2562</td>\n",
       "      <td>uhnov1</td>\n",
       "      <td>Бинбанк</td>\n",
       "      <td>2015-06-08 12:50:54</td>\n",
       "      <td>Добрый день! Я не являюсь клиентом банка и пор...</td>\n",
       "      <td>NaN</td>\n",
       "    </tr>\n",
       "    <tr>\n",
       "      <th>1</th>\n",
       "      <td>г. Новосибирск</td>\n",
       "      <td>False</td>\n",
       "      <td>Не могу пользоваться услугой Сбербанк он-лайн</td>\n",
       "      <td>0</td>\n",
       "      <td>лицензия № 1481</td>\n",
       "      <td>Foryou</td>\n",
       "      <td>Сбербанк России</td>\n",
       "      <td>2015-06-08 11:09:57</td>\n",
       "      <td>Доброго дня! Являюсь держателем зарплатной кар...</td>\n",
       "      <td>NaN</td>\n",
       "    </tr>\n",
       "    <tr>\n",
       "      <th>2</th>\n",
       "      <td>г. Москва</td>\n",
       "      <td>False</td>\n",
       "      <td>Двойное списание за один товар.</td>\n",
       "      <td>1</td>\n",
       "      <td>лицензия № 2562</td>\n",
       "      <td>Vladimir84</td>\n",
       "      <td>Бинбанк</td>\n",
       "      <td>2015-06-05 20:14:28</td>\n",
       "      <td>Здравствуйте!  Дублирую свое заявление от 03.0...</td>\n",
       "      <td>NaN</td>\n",
       "    </tr>\n",
       "  </tbody>\n",
       "</table>\n",
       "</div>"
      ],
      "text/plain": [
       "             city  rating_not_checked  \\\n",
       "0       г. Москва               False   \n",
       "1  г. Новосибирск               False   \n",
       "2       г. Москва               False   \n",
       "\n",
       "                                           title  num_comments  \\\n",
       "0                                         Жалоба             0   \n",
       "1  Не могу пользоваться услугой Сбербанк он-лайн             0   \n",
       "2                Двойное списание за один товар.             1   \n",
       "\n",
       "      bank_license      author        bank_name             datetime  \\\n",
       "0  лицензия № 2562      uhnov1          Бинбанк  2015-06-08 12:50:54   \n",
       "1  лицензия № 1481      Foryou  Сбербанк России  2015-06-08 11:09:57   \n",
       "2  лицензия № 2562  Vladimir84          Бинбанк  2015-06-05 20:14:28   \n",
       "\n",
       "                                                text  rating_grade  \n",
       "0  Добрый день! Я не являюсь клиентом банка и пор...           NaN  \n",
       "1  Доброго дня! Являюсь держателем зарплатной кар...           NaN  \n",
       "2  Здравствуйте!  Дублирую свое заявление от 03.0...           NaN  "
      ]
     },
     "execution_count": 5,
     "metadata": {},
     "output_type": "execute_result"
    }
   ],
   "source": [
    "responses_df.head(3)"
   ]
  },
  {
   "cell_type": "markdown",
   "metadata": {},
   "source": [
    "### Часть 1. Анализ текстов"
   ]
  },
  {
   "cell_type": "markdown",
   "metadata": {},
   "source": [
    "1. Посчитайте количество отзывов в разных городах и на разные банки"
   ]
  },
  {
   "cell_type": "code",
   "execution_count": 27,
   "metadata": {},
   "outputs": [],
   "source": [
    "bank_name = []\n",
    "\n",
    "for i in responses:\n",
    "        \n",
    "    if i.get('bank_name') in bank_name:\n",
    "        pass\n",
    "    else:\n",
    "        bank_name.append(i.get('bank_name'))\n",
    "    \n",
    "    "
   ]
  },
  {
   "cell_type": "code",
   "execution_count": 28,
   "metadata": {},
   "outputs": [],
   "source": [
    "cities = []\n",
    "\n",
    "for i in responses:\n",
    "        \n",
    "    if i.get('city') in cities:\n",
    "        pass\n",
    "    else:\n",
    "        cities.append(i.get('city'))\n",
    "    "
   ]
  },
  {
   "cell_type": "code",
   "execution_count": 29,
   "metadata": {},
   "outputs": [
    {
     "name": "stdout",
     "output_type": "stream",
     "text": [
      "количество отзывов в разных городах: 5824  и на разные банки: 670\n"
     ]
    }
   ],
   "source": [
    "print('количество отзывов в разных городах:', len(cities), ' и на разные банки:',len(bank_name))"
   ]
  },
  {
   "cell_type": "markdown",
   "metadata": {},
   "source": [
    "2. Постройте гистограмы длин слов в символах и в словах"
   ]
  },
  {
   "cell_type": "markdown",
   "metadata": {},
   "source": [
    "3. Найдите 10 самых частых:  \n",
    "-слов  \n",
    "-слов без стоп-слов  \n",
    "-лемм  \n",
    "-существительных"
   ]
  },
  {
   "cell_type": "code",
   "execution_count": 37,
   "metadata": {},
   "outputs": [],
   "source": [
    "from collections import Counter\n",
    "from string import punctuation\n",
    "from nltk.tokenize import word_tokenize"
   ]
  },
  {
   "cell_type": "code",
   "execution_count": 43,
   "metadata": {},
   "outputs": [],
   "source": [
    "corpus = [token for text in responses for token in word_tokenize(text['text']) if token not in punctuation]    "
   ]
  },
  {
   "cell_type": "code",
   "execution_count": 10,
   "metadata": {},
   "outputs": [
    {
     "data": {
      "text/plain": [
       "36766257"
      ]
     },
     "execution_count": 10,
     "metadata": {},
     "output_type": "execute_result"
    }
   ],
   "source": [
    "len(corpus)"
   ]
  },
  {
   "cell_type": "code",
   "execution_count": 11,
   "metadata": {},
   "outputs": [],
   "source": [
    "freq_dict = Counter(corpus)"
   ]
  },
  {
   "cell_type": "code",
   "execution_count": 12,
   "metadata": {
    "scrolled": false
   },
   "outputs": [
    {
     "name": "stdout",
     "output_type": "stream",
     "text": [
      "10 самых частых слов\n"
     ]
    },
    {
     "data": {
      "text/plain": [
       "[('в', 1169557),\n",
       " ('и', 980761),\n",
       " ('не', 816419),\n",
       " ('на', 638715),\n",
       " ('что', 603171),\n",
       " ('я', 443478),\n",
       " ('с', 428021),\n",
       " ('по', 338743),\n",
       " ('мне', 293980),\n",
       " ('банка', 235176)]"
      ]
     },
     "execution_count": 12,
     "metadata": {},
     "output_type": "execute_result"
    }
   ],
   "source": [
    "print('10 самых частых слов')\n",
    "freq_dict.most_common(10)"
   ]
  },
  {
   "cell_type": "code",
   "execution_count": null,
   "metadata": {},
   "outputs": [],
   "source": []
  },
  {
   "cell_type": "code",
   "execution_count": 38,
   "metadata": {},
   "outputs": [
    {
     "name": "stderr",
     "output_type": "stream",
     "text": [
      "[nltk_data] Downloading package stopwords to\n",
      "[nltk_data]     C:\\Users\\35846\\AppData\\Roaming\\nltk_data...\n",
      "[nltk_data]   Package stopwords is already up-to-date!\n"
     ]
    },
    {
     "data": {
      "text/plain": [
       "True"
      ]
     },
     "execution_count": 38,
     "metadata": {},
     "output_type": "execute_result"
    }
   ],
   "source": [
    "import nltk\n",
    "nltk.download('stopwords')"
   ]
  },
  {
   "cell_type": "code",
   "execution_count": 39,
   "metadata": {},
   "outputs": [],
   "source": [
    "from nltk.corpus import stopwords"
   ]
  },
  {
   "cell_type": "code",
   "execution_count": 40,
   "metadata": {},
   "outputs": [],
   "source": [
    "signs = ['``', \"''\", '...']"
   ]
  },
  {
   "cell_type": "code",
   "execution_count": 41,
   "metadata": {},
   "outputs": [],
   "source": [
    "noise = stopwords.words('russian') + list(punctuation) + signs"
   ]
  },
  {
   "cell_type": "code",
   "execution_count": 36,
   "metadata": {},
   "outputs": [],
   "source": [
    "corpus = [token for text in responses for token in word_tokenize(text['text']) if token not in noise]"
   ]
  },
  {
   "cell_type": "code",
   "execution_count": 44,
   "metadata": {},
   "outputs": [],
   "source": [
    "freq_dict = Counter(corpus)"
   ]
  },
  {
   "cell_type": "code",
   "execution_count": 45,
   "metadata": {
    "scrolled": false
   },
   "outputs": [
    {
     "name": "stdout",
     "output_type": "stream",
     "text": [
      "10 самых частых слов без стоп-слов\n"
     ]
    },
    {
     "data": {
      "text/plain": [
       "[('в', 1169557),\n",
       " ('и', 980761),\n",
       " ('не', 816419),\n",
       " ('на', 638715),\n",
       " ('что', 603171),\n",
       " ('я', 443478),\n",
       " ('с', 428021),\n",
       " ('по', 338743),\n",
       " ('мне', 293980),\n",
       " ('банка', 235176)]"
      ]
     },
     "execution_count": 45,
     "metadata": {},
     "output_type": "execute_result"
    }
   ],
   "source": [
    "print('10 самых частых слов без стоп-слов')\n",
    "freq_dict.most_common(10)"
   ]
  },
  {
   "cell_type": "code",
   "execution_count": null,
   "metadata": {},
   "outputs": [],
   "source": []
  },
  {
   "cell_type": "code",
   "execution_count": 46,
   "metadata": {},
   "outputs": [],
   "source": [
    "from pymorphy2 import MorphAnalyzer\n",
    "pymorphy2_analyzer = MorphAnalyzer()"
   ]
  },
  {
   "cell_type": "code",
   "execution_count": 55,
   "metadata": {},
   "outputs": [],
   "source": [
    "lemmatized_text = [pymorphy2_analyzer.parse(word)[0].normal_form for word in corpus]"
   ]
  },
  {
   "cell_type": "code",
   "execution_count": 207,
   "metadata": {},
   "outputs": [
    {
     "data": {
      "text/plain": [
       "['добрый',\n",
       " 'день',\n",
       " 'являться',\n",
       " 'клиент',\n",
       " 'банк',\n",
       " 'поручитель',\n",
       " 'кредитный',\n",
       " 'договор',\n",
       " 'также',\n",
       " 'являться']"
      ]
     },
     "execution_count": 207,
     "metadata": {},
     "output_type": "execute_result"
    }
   ],
   "source": [
    "lemmatized_text[:10]"
   ]
  },
  {
   "cell_type": "code",
   "execution_count": 210,
   "metadata": {},
   "outputs": [],
   "source": [
    "freq_dict_lemm = Counter(lemmatized_text)"
   ]
  },
  {
   "cell_type": "code",
   "execution_count": 211,
   "metadata": {},
   "outputs": [
    {
     "name": "stdout",
     "output_type": "stream",
     "text": [
      "10 самых частых лемм\n"
     ]
    },
    {
     "data": {
      "text/plain": [
       "[('банк', 624274),\n",
       " ('карта', 331816),\n",
       " ('это', 200083),\n",
       " ('деньга', 178338),\n",
       " ('мой', 173674),\n",
       " ('день', 172636),\n",
       " ('кредит', 154865),\n",
       " ('который', 148990),\n",
       " ('отделение', 143616),\n",
       " ('счёт', 140510)]"
      ]
     },
     "execution_count": 211,
     "metadata": {},
     "output_type": "execute_result"
    }
   ],
   "source": [
    "print('10 самых частых лемм')\n",
    "freq_dict_lemm.most_common(10)"
   ]
  },
  {
   "cell_type": "code",
   "execution_count": null,
   "metadata": {},
   "outputs": [],
   "source": []
  },
  {
   "cell_type": "markdown",
   "metadata": {},
   "source": [
    "4. Постройте кривые Ципфа и Хипса"
   ]
  },
  {
   "cell_type": "markdown",
   "metadata": {},
   "source": [
    "Закон Ципфа.  \n",
    "Эмпирическая закономерность: если все слова корпуса текста упорядочить по убыванию частоты их использования, то частота n-го слова в таком списке окажется приблизительно обратно пропорциональной его порядковому номеру n. Иными словами, частотность слов убывает очень быстро."
   ]
  },
  {
   "cell_type": "code",
   "execution_count": 87,
   "metadata": {
    "scrolled": true
   },
   "outputs": [
    {
     "data": {
      "image/png": "[encoded data removed]",
      "text/plain": [
       "<Figure size 432x288 with 1 Axes>"
      ]
     },
     "metadata": {
      "needs_background": "light"
     },
     "output_type": "display_data"
    }
   ],
   "source": [
    "freqs = list(freq_dict.values())\n",
    "freqs = sorted(freqs, reverse = True)\n",
    "\n",
    "fig, ax = plt.subplots()\n",
    "ax.plot(freqs[:1500], range(1500))\n",
    "plt.show()"
   ]
  },
  {
   "cell_type": "code",
   "execution_count": null,
   "metadata": {},
   "outputs": [],
   "source": []
  },
  {
   "cell_type": "markdown",
   "metadata": {},
   "source": [
    "5. Ответьте на следующие вопросы:  \n",
    "-какое слово встречается чаще, \"сотрудник\" или \"клиент\"?  \n",
    "-сколько раз встречается слова \"мошенничество\" и \"доверие\"?"
   ]
  },
  {
   "cell_type": "code",
   "execution_count": 229,
   "metadata": {},
   "outputs": [],
   "source": [
    "sotr = 0\n",
    "klient = 0\n",
    "moc = 0\n",
    "dov = 0\n",
    "for i in lemmatized_text:\n",
    "    if i=='сотрудник':\n",
    "        sotr=sotr+1\n",
    "    elif i=='клиент':\n",
    "        klient=klient+1\n",
    "    elif i=='мошенничество':\n",
    "        moc=moc+1\n",
    "    elif i=='доверие':\n",
    "        dov=dov+1\n",
    "    else:\n",
    "        continue\n",
    "        \n",
    "    \n",
    "    "
   ]
  },
  {
   "cell_type": "code",
   "execution_count": 230,
   "metadata": {},
   "outputs": [
    {
     "name": "stdout",
     "output_type": "stream",
     "text": [
      "слово сотрудник встречается чаще, чем слово клиент\n"
     ]
    }
   ],
   "source": [
    "if sotr < klient:\n",
    "    print('слово клиент встречается чаще, чем слово сотрудник')\n",
    "else:\n",
    "    print('слово сотрудник встречается чаще, чем слово клиент')"
   ]
  },
  {
   "cell_type": "code",
   "execution_count": 233,
   "metadata": {},
   "outputs": [
    {
     "name": "stdout",
     "output_type": "stream",
     "text": [
      "слово мошенничество встречается 3228 раз\n"
     ]
    }
   ],
   "source": [
    "print('слово мошенничество встречается', moc, 'раз')"
   ]
  },
  {
   "cell_type": "code",
   "execution_count": 234,
   "metadata": {},
   "outputs": [
    {
     "name": "stdout",
     "output_type": "stream",
     "text": [
      "слово доверие встречается 2098 раз\n"
     ]
    }
   ],
   "source": [
    "print('слово доверие встречается', dov, 'раз')"
   ]
  },
  {
   "cell_type": "code",
   "execution_count": null,
   "metadata": {},
   "outputs": [],
   "source": []
  },
  {
   "cell_type": "markdown",
   "metadata": {},
   "source": [
    "6. В поле \"rating_grade\" записана оценка отзыва по шкале от 1 до 5. Используйте меру tf-idf, для того, чтобы найти ключевые слова и биграмы для положительных отзывов (с оценкой 5) и отрицательных отзывов (с оценкой 1)"
   ]
  },
  {
   "cell_type": "markdown",
   "metadata": {},
   "source": [
    "### Часть 2. Тематическое моделирование"
   ]
  },
  {
   "cell_type": "markdown",
   "metadata": {},
   "source": [
    "1. Постройте несколько тематических моделей коллекции документов с разным числом тем. Приведите примеры понятных (интерпретируемых) тем."
   ]
  },
  {
   "cell_type": "code",
   "execution_count": 47,
   "metadata": {},
   "outputs": [],
   "source": [
    "import gensim"
   ]
  },
  {
   "cell_type": "code",
   "execution_count": 48,
   "metadata": {},
   "outputs": [],
   "source": [
    "def preprocess(input_text):\n",
    "        \n",
    "    text = input_text.lower()\n",
    "    tokenized_text = word_tokenize(text)\n",
    "    clean_text = [word for word in tokenized_text if word not in noise]\n",
    "    lemmatized_text = [pymorphy2_analyzer.parse(word)[0].normal_form for word in \n",
    "                       clean_text]\n",
    "    \n",
    "    return lemmatized_text"
   ]
  },
  {
   "cell_type": "code",
   "execution_count": 49,
   "metadata": {
    "scrolled": true
   },
   "outputs": [],
   "source": [
    "responses_df[\"text_processed\"] = responses_df[\"text\"].map(preprocess)"
   ]
  },
  {
   "cell_type": "code",
   "execution_count": 51,
   "metadata": {},
   "outputs": [
    {
     "data": {
      "text/html": [
       "<div>\n",
       "<style scoped>\n",
       "    .dataframe tbody tr th:only-of-type {\n",
       "        vertical-align: middle;\n",
       "    }\n",
       "\n",
       "    .dataframe tbody tr th {\n",
       "        vertical-align: top;\n",
       "    }\n",
       "\n",
       "    .dataframe thead th {\n",
       "        text-align: right;\n",
       "    }\n",
       "</style>\n",
       "<table border=\"1\" class=\"dataframe\">\n",
       "  <thead>\n",
       "    <tr style=\"text-align: right;\">\n",
       "      <th></th>\n",
       "      <th>city</th>\n",
       "      <th>rating_not_checked</th>\n",
       "      <th>title</th>\n",
       "      <th>num_comments</th>\n",
       "      <th>bank_license</th>\n",
       "      <th>author</th>\n",
       "      <th>bank_name</th>\n",
       "      <th>datetime</th>\n",
       "      <th>text</th>\n",
       "      <th>rating_grade</th>\n",
       "      <th>text_processed</th>\n",
       "    </tr>\n",
       "  </thead>\n",
       "  <tbody>\n",
       "    <tr>\n",
       "      <th>0</th>\n",
       "      <td>г. Москва</td>\n",
       "      <td>False</td>\n",
       "      <td>Жалоба</td>\n",
       "      <td>0</td>\n",
       "      <td>лицензия № 2562</td>\n",
       "      <td>uhnov1</td>\n",
       "      <td>Бинбанк</td>\n",
       "      <td>2015-06-08 12:50:54</td>\n",
       "      <td>Добрый день! Я не являюсь клиентом банка и пор...</td>\n",
       "      <td>NaN</td>\n",
       "      <td>[добрый, день, являться, клиент, банк, поручит...</td>\n",
       "    </tr>\n",
       "    <tr>\n",
       "      <th>1</th>\n",
       "      <td>г. Новосибирск</td>\n",
       "      <td>False</td>\n",
       "      <td>Не могу пользоваться услугой Сбербанк он-лайн</td>\n",
       "      <td>0</td>\n",
       "      <td>лицензия № 1481</td>\n",
       "      <td>Foryou</td>\n",
       "      <td>Сбербанк России</td>\n",
       "      <td>2015-06-08 11:09:57</td>\n",
       "      <td>Доброго дня! Являюсь держателем зарплатной кар...</td>\n",
       "      <td>NaN</td>\n",
       "      <td>[добрый, день, являться, держатель, зарплатный...</td>\n",
       "    </tr>\n",
       "    <tr>\n",
       "      <th>2</th>\n",
       "      <td>г. Москва</td>\n",
       "      <td>False</td>\n",
       "      <td>Двойное списание за один товар.</td>\n",
       "      <td>1</td>\n",
       "      <td>лицензия № 2562</td>\n",
       "      <td>Vladimir84</td>\n",
       "      <td>Бинбанк</td>\n",
       "      <td>2015-06-05 20:14:28</td>\n",
       "      <td>Здравствуйте!  Дублирую свое заявление от 03.0...</td>\n",
       "      <td>NaN</td>\n",
       "      <td>[здравствуйте, дублировать, свой, заявление, 0...</td>\n",
       "    </tr>\n",
       "  </tbody>\n",
       "</table>\n",
       "</div>"
      ],
      "text/plain": [
       "             city  rating_not_checked  \\\n",
       "0       г. Москва               False   \n",
       "1  г. Новосибирск               False   \n",
       "2       г. Москва               False   \n",
       "\n",
       "                                           title  num_comments  \\\n",
       "0                                         Жалоба             0   \n",
       "1  Не могу пользоваться услугой Сбербанк он-лайн             0   \n",
       "2                Двойное списание за один товар.             1   \n",
       "\n",
       "      bank_license      author        bank_name             datetime  \\\n",
       "0  лицензия № 2562      uhnov1          Бинбанк  2015-06-08 12:50:54   \n",
       "1  лицензия № 1481      Foryou  Сбербанк России  2015-06-08 11:09:57   \n",
       "2  лицензия № 2562  Vladimir84          Бинбанк  2015-06-05 20:14:28   \n",
       "\n",
       "                                                text  rating_grade  \\\n",
       "0  Добрый день! Я не являюсь клиентом банка и пор...           NaN   \n",
       "1  Доброго дня! Являюсь держателем зарплатной кар...           NaN   \n",
       "2  Здравствуйте!  Дублирую свое заявление от 03.0...           NaN   \n",
       "\n",
       "                                      text_processed  \n",
       "0  [добрый, день, являться, клиент, банк, поручит...  \n",
       "1  [добрый, день, являться, держатель, зарплатный...  \n",
       "2  [здравствуйте, дублировать, свой, заявление, 0...  "
      ]
     },
     "execution_count": 51,
     "metadata": {},
     "output_type": "execute_result"
    }
   ],
   "source": [
    "responses_df.head(3)"
   ]
  },
  {
   "cell_type": "code",
   "execution_count": 62,
   "metadata": {},
   "outputs": [],
   "source": [
    "gensim_dictionary = gensim.corpora.Dictionary(responses_df[\"text_processed\"])\n",
    "#gensim_dictionary.filter_extremes(no_above=0.1, no_below=20)\n",
    "#gensim_dictionary.compactify()"
   ]
  },
  {
   "cell_type": "code",
   "execution_count": 63,
   "metadata": {},
   "outputs": [],
   "source": [
    "corpus = [gensim_dictionary.doc2bow(text) for text in responses_df['text_processed']]"
   ]
  },
  {
   "cell_type": "code",
   "execution_count": 67,
   "metadata": {},
   "outputs": [],
   "source": [
    "lda_20 = gensim.models.LdaMulticore(corpus, \n",
    "                                 num_topics=20, \n",
    "                                 id2word=gensim_dictionary, \n",
    "                                 passes=10, random_state=42)"
   ]
  },
  {
   "cell_type": "code",
   "execution_count": 68,
   "metadata": {
    "scrolled": true
   },
   "outputs": [
    {
     "data": {
      "text/plain": [
       "[(0,\n",
       "  '0.027*\"банк\" + 0.027*\"заявка\" + 0.023*\"день\" + 0.013*\"позвонить\" + 0.012*\"сказать\" + 0.009*\"кредит\" + 0.009*\"документ\" + 0.008*\"звонить\" + 0.008*\"анкета\" + 0.008*\"неделя\"'),\n",
       " (1,\n",
       "  '0.039*\"карта\" + 0.016*\"банк\" + 0.014*\"отделение\" + 0.012*\"вопрос\" + 0.010*\"оператор\" + 0.009*\"сотрудник\" + 0.009*\"мочь\" + 0.009*\"ответ\" + 0.009*\"телефон\" + 0.008*\"номер\"'),\n",
       " (2,\n",
       "  '0.032*\"документ\" + 0.023*\"банк\" + 0.014*\"справка\" + 0.011*\"мы\" + 0.010*\"квартира\" + 0.009*\"сделка\" + 0.008*\"ипотека\" + 0.008*\"который\" + 0.007*\"паспорт\" + 0.007*\"ипотечный\"'),\n",
       " (3,\n",
       "  '0.034*\"деньга\" + 0.028*\"банк\" + 0.022*\"банкомат\" + 0.019*\"сумма\" + 0.019*\"счёт\" + 0.017*\"операция\" + 0.015*\"перевод\" + 0.014*\"средство\" + 0.014*\"рубль\" + 0.012*\"карта\"'),\n",
       " (4,\n",
       "  '0.066*\"кредит\" + 0.027*\"банк\" + 0.018*\"сумма\" + 0.014*\"страховка\" + 0.013*\"договор\" + 0.011*\"это\" + 0.008*\"сказать\" + 0.008*\"кредитный\" + 0.008*\"год\" + 0.008*\"страхование\"'),\n",
       " (5,\n",
       "  '0.035*\"платёж\" + 0.027*\"банк\" + 0.017*\"сумма\" + 0.012*\"кредит\" + 0.012*\"день\" + 0.011*\"задолженность\" + 0.011*\"оплатить\" + 0.010*\"деньга\" + 0.009*\"месяц\" + 0.009*\"счёт\"'),\n",
       " (6,\n",
       "  '0.043*\"банк\" + 0.014*\"очень\" + 0.014*\"клиент\" + 0.012*\"это\" + 0.007*\"сотрудник\" + 0.007*\"который\" + 0.007*\"свой\" + 0.007*\"работа\" + 0.006*\"год\" + 0.006*\"время\"'),\n",
       " (7,\n",
       "  '0.076*\"вклад\" + 0.032*\"процент\" + 0.028*\"банк\" + 0.021*\"сумма\" + 0.021*\"договор\" + 0.015*\"условие\" + 0.013*\"ставка\" + 0.012*\"день\" + 0.010*\"срок\" + 0.009*\"год\"'),\n",
       " (8,\n",
       "  '0.033*\"заявление\" + 0.026*\"деньга\" + 0.020*\"день\" + 0.019*\"карта\" + 0.018*\"мой\" + 0.018*\"отделение\" + 0.015*\"сбербанк\" + 0.014*\"написать\" + 0.014*\"банк\" + 0.012*\"банкомат\"'),\n",
       " (9,\n",
       "  '0.019*\"банк\" + 0.016*\"отделение\" + 0.014*\"очередь\" + 0.010*\"клиент\" + 0.010*\"это\" + 0.010*\"офис\" + 0.009*\"работать\" + 0.009*\"минута\" + 0.008*\"вклад\" + 0.008*\"время\"'),\n",
       " (10,\n",
       "  '0.055*\"сбербанк\" + 0.033*\"услуга\" + 0.026*\"карта\" + 0.019*\"банк\" + 0.017*\"мобильный\" + 0.016*\"номер\" + 0.016*\"подключить\" + 0.015*\"смс\" + 0.011*\"телефон\" + 0.010*\"мой\"'),\n",
       " (11,\n",
       "  '0.060*\"карта\" + 0.017*\"банк\" + 0.012*\"это\" + 0.007*\"деньга\" + 0.006*\"банкомат\" + 0.006*\"карточка\" + 0.005*\"пользоваться\" + 0.005*\"который\" + 0.005*\"год\" + 0.005*\"отделение\"'),\n",
       " (12,\n",
       "  '0.020*\"это\" + 0.018*\"банк\" + 0.018*\"звонить\" + 0.016*\"говорить\" + 0.014*\"деньга\" + 0.009*\"знать\" + 0.009*\"сказать\" + 0.009*\"телефон\" + 0.008*\"такой\" + 0.008*\"человек\"'),\n",
       " (13,\n",
       "  '0.166*\"счёт\" + 0.026*\"открыть\" + 0.020*\"банк\" + 0.019*\"открытие\" + 0.019*\"закрытие\" + 0.018*\"закрыть\" + 0.011*\"расчётный\" + 0.010*\"выписка\" + 0.008*\"текущий\" + 0.008*\"закрытый\"'),\n",
       " (14,\n",
       "  '0.080*\"карта\" + 0.053*\"банк\" + 0.039*\"кредитный\" + 0.019*\"лимит\" + 0.014*\"год\" + 0.012*\"клиент\" + 0.009*\"обслуживание\" + 0.008*\"мой\" + 0.007*\"который\" + 0.007*\"пользоваться\"'),\n",
       " (15,\n",
       "  '0.045*\"банк\" + 0.022*\"кредит\" + 0.020*\"звонок\" + 0.017*\"сотрудник\" + 0.017*\"ваш\" + 0.017*\"номер\" + 0.015*\"телефон\" + 0.015*\"мой\" + 0.010*\"который\" + 0.010*\"звонить\"'),\n",
       " (16,\n",
       "  '0.025*\"мособлбанк\" + 0.011*\"смп\" + 0.011*\"росинтербанк\" + 0.009*\"d0\" + 0.009*\"−\" + 0.008*\"рк\" + 0.006*\"франк\" + 0.005*\"швейцарский\" + 0.004*\"error\" + 0.004*\"динар\"'),\n",
       " (17,\n",
       "  '0.039*\"банк\" + 0.017*\"договор\" + 0.013*\"мой\" + 0.008*\"рф\" + 0.008*\"право\" + 0.007*\"клиент\" + 0.007*\"сотрудник\" + 0.007*\"ответ\" + 0.007*\"который\" + 0.007*\"закон\"'),\n",
       " (18,\n",
       "  '0.121*\"«\" + 0.119*\"»\" + 0.046*\"–\" + 0.007*\"банк\" + 0.007*\"—\" + 0.007*\"кошелёк\" + 0.006*\"платёж\" + 0.006*\"клиент\" + 0.006*\"который\" + 0.006*\"система\"'),\n",
       " (19,\n",
       "  '0.021*\"банк\" + 0.019*\"год\" + 0.013*\"долг\" + 0.012*\"мама\" + 0.011*\"платить\" + 0.011*\"ребёнок\" + 0.011*\"кредит\" + 0.010*\"суд\" + 0.010*\"мой\" + 0.008*\"работа\"')]"
      ]
     },
     "execution_count": 68,
     "metadata": {},
     "output_type": "execute_result"
    }
   ],
   "source": [
    "lda_20.print_topics()"
   ]
  },
  {
   "cell_type": "markdown",
   "metadata": {},
   "source": [
    "1. Подача заявки на кредит\n",
    "2. Оформление карт\n",
    "3. Денежные операции\n",
    "4. Страхование кредитов\n",
    "5. Оплата кредитов\n",
    "6. ....\n",
    "7. Вклады\n",
    "8. ....\n",
    "9. Обслуживание клиентов\n",
    "10. Мобильное приложение"
   ]
  },
  {
   "cell_type": "code",
   "execution_count": 64,
   "metadata": {},
   "outputs": [],
   "source": [
    "lda_10 = gensim.models.LdaMulticore(corpus, \n",
    "                                 num_topics=10, \n",
    "                                 id2word=gensim_dictionary, \n",
    "                                 passes=10, random_state=42)"
   ]
  },
  {
   "cell_type": "code",
   "execution_count": 65,
   "metadata": {
    "scrolled": true
   },
   "outputs": [
    {
     "data": {
      "text/plain": [
       "[(0,\n",
       "  '0.034*\"банк\" + 0.016*\"звонить\" + 0.016*\"звонок\" + 0.015*\"телефон\" + 0.014*\"номер\" + 0.013*\"ваш\" + 0.011*\"это\" + 0.011*\"сотрудник\" + 0.011*\"мой\" + 0.010*\"кредит\"'),\n",
       " (1,\n",
       "  '0.066*\"карта\" + 0.018*\"банк\" + 0.010*\"это\" + 0.008*\"отделение\" + 0.007*\"день\" + 0.007*\"сказать\" + 0.006*\"получить\" + 0.006*\"который\" + 0.006*\"мой\" + 0.006*\"мочь\"'),\n",
       " (2,\n",
       "  '0.026*\"банк\" + 0.025*\"документ\" + 0.015*\"день\" + 0.015*\"заявка\" + 0.008*\"кредит\" + 0.008*\"справка\" + 0.008*\"сказать\" + 0.007*\"сотрудник\" + 0.006*\"менеджер\" + 0.006*\"который\"'),\n",
       " (3,\n",
       "  '0.034*\"деньга\" + 0.021*\"банкомат\" + 0.021*\"банк\" + 0.018*\"карта\" + 0.017*\"счёт\" + 0.012*\"операция\" + 0.012*\"сумма\" + 0.012*\"день\" + 0.011*\"средство\" + 0.009*\"рубль\"'),\n",
       " (4,\n",
       "  '0.059*\"кредит\" + 0.029*\"банк\" + 0.016*\"сумма\" + 0.012*\"страховка\" + 0.011*\"договор\" + 0.010*\"это\" + 0.009*\"кредитный\" + 0.008*\"сказать\" + 0.007*\"год\" + 0.007*\"000\"'),\n",
       " (5,\n",
       "  '0.031*\"банк\" + 0.019*\"платёж\" + 0.013*\"счёт\" + 0.012*\"сумма\" + 0.012*\"день\" + 0.011*\"кредит\" + 0.010*\"деньга\" + 0.010*\"заявление\" + 0.009*\"задолженность\" + 0.009*\"год\"'),\n",
       " (6,\n",
       "  '0.040*\"банк\" + 0.012*\"это\" + 0.012*\"клиент\" + 0.011*\"очень\" + 0.007*\"год\" + 0.007*\"который\" + 0.006*\"свой\" + 0.006*\"обслуживание\" + 0.005*\"счёт\" + 0.005*\"работа\"'),\n",
       " (7,\n",
       "  '0.036*\"банк\" + 0.027*\"«\" + 0.026*\"»\" + 0.026*\"договор\" + 0.016*\"вклад\" + 0.011*\"счёт\" + 0.010*\"условие\" + 0.008*\"сумма\" + 0.008*\"средство\" + 0.007*\"процент\"'),\n",
       " (8,\n",
       "  '0.024*\"банк\" + 0.021*\"мой\" + 0.018*\"заявление\" + 0.017*\"сбербанк\" + 0.012*\"сотрудник\" + 0.010*\"номер\" + 0.010*\"г.\" + 0.010*\"обращение\" + 0.009*\"ответ\" + 0.009*\"отделение\"'),\n",
       " (9,\n",
       "  '0.018*\"банк\" + 0.014*\"отделение\" + 0.011*\"вклад\" + 0.011*\"это\" + 0.010*\"очередь\" + 0.009*\"клиент\" + 0.008*\"деньга\" + 0.008*\"офис\" + 0.008*\"работать\" + 0.007*\"минута\"')]"
      ]
     },
     "execution_count": 65,
     "metadata": {},
     "output_type": "execute_result"
    }
   ],
   "source": [
    "lda_10.print_topics()"
   ]
  },
  {
   "cell_type": "code",
   "execution_count": 66,
   "metadata": {},
   "outputs": [
    {
     "data": {
      "text/plain": [
       "[(0,\n",
       "  '0.033*\"банк\" + 0.013*\"мой\" + 0.011*\"сотрудник\" + 0.010*\"звонок\" + 0.010*\"телефон\" + 0.010*\"звонить\" + 0.010*\"номер\" + 0.009*\"ваш\" + 0.008*\"день\" + 0.008*\"это\"'),\n",
       " (1,\n",
       "  '0.048*\"карта\" + 0.021*\"банк\" + 0.010*\"это\" + 0.007*\"отделение\" + 0.007*\"день\" + 0.006*\"сказать\" + 0.006*\"который\" + 0.006*\"счёт\" + 0.006*\"мой\" + 0.005*\"мочь\"'),\n",
       " (2,\n",
       "  '0.026*\"банк\" + 0.010*\"это\" + 0.010*\"вклад\" + 0.010*\"отделение\" + 0.009*\"клиент\" + 0.006*\"деньга\" + 0.006*\"офис\" + 0.006*\"очередь\" + 0.006*\"работать\" + 0.006*\"который\"'),\n",
       " (3,\n",
       "  '0.024*\"банк\" + 0.022*\"деньга\" + 0.017*\"счёт\" + 0.012*\"карта\" + 0.011*\"банкомат\" + 0.011*\"средство\" + 0.011*\"мой\" + 0.011*\"день\" + 0.010*\"заявление\" + 0.010*\"сумма\"'),\n",
       " (4,\n",
       "  '0.035*\"кредит\" + 0.032*\"банк\" + 0.015*\"сумма\" + 0.012*\"договор\" + 0.012*\"платёж\" + 0.011*\"кредитный\" + 0.009*\"год\" + 0.008*\"это\" + 0.008*\"день\" + 0.007*\"месяц\"')]"
      ]
     },
     "execution_count": 66,
     "metadata": {},
     "output_type": "execute_result"
    }
   ],
   "source": [
    "lda_5 = gensim.models.LdaMulticore(corpus, \n",
    "                                 num_topics=5, \n",
    "                                 id2word=gensim_dictionary, \n",
    "                                 passes=10, random_state=42)\n",
    "\n",
    "lda_5.print_topics()"
   ]
  },
  {
   "cell_type": "code",
   "execution_count": null,
   "metadata": {},
   "outputs": [],
   "source": []
  },
  {
   "cell_type": "markdown",
   "metadata": {},
   "source": [
    "### Часть 3. Классификация текстов\n",
    "Сформулируем для простоты задачу бинарной классификации: будем классифицировать на два класса, то есть, различать резко отрицательные отзывы (с оценкой 1) и положительные отзывы (с оценкой 5).\n",
    "\n",
    "1. Составьте обучающее и тестовое множество: выберите из всего набора данных N1 отзывов с оценкой 1 и N2 отзывов с оценкой 5 (значение N1 и N2 – на ваше усмотрение). Используйте sklearn.model_selection.train_test_split для разделения множества отобранных документов на обучающее и тестовое."
   ]
  },
  {
   "cell_type": "markdown",
   "metadata": {},
   "source": [
    "2. Используйте любой известный вам алгоритм классификации текстов для решения задачи и получите baseline. Сравните разные варианты векторизации текста: использование только униграм, пар или троек слов или с использованием символьных n-грам."
   ]
  },
  {
   "cell_type": "code",
   "execution_count": 90,
   "metadata": {},
   "outputs": [],
   "source": [
    "from sklearn.model_selection import train_test_split\n",
    "from sklearn.pipeline import Pipeline\n",
    "from sklearn.feature_extraction.text import CountVectorizer\n",
    "from sklearn.linear_model import LogisticRegression\n",
    "from sklearn.metrics import classification_report\n",
    "from sklearn.metrics import f1_score\n",
    "from sklearn.metrics import accuracy_score\n"
   ]
  },
  {
   "cell_type": "code",
   "execution_count": 8,
   "metadata": {},
   "outputs": [],
   "source": [
    "classification = responses_df[(responses_df['rating_grade']==1)|(responses_df['rating_grade']==5)]"
   ]
  },
  {
   "cell_type": "code",
   "execution_count": 15,
   "metadata": {
    "scrolled": true
   },
   "outputs": [
    {
     "data": {
      "text/html": [
       "<div>\n",
       "<style scoped>\n",
       "    .dataframe tbody tr th:only-of-type {\n",
       "        vertical-align: middle;\n",
       "    }\n",
       "\n",
       "    .dataframe tbody tr th {\n",
       "        vertical-align: top;\n",
       "    }\n",
       "\n",
       "    .dataframe thead th {\n",
       "        text-align: right;\n",
       "    }\n",
       "</style>\n",
       "<table border=\"1\" class=\"dataframe\">\n",
       "  <thead>\n",
       "    <tr style=\"text-align: right;\">\n",
       "      <th></th>\n",
       "      <th>city</th>\n",
       "      <th>rating_not_checked</th>\n",
       "      <th>title</th>\n",
       "      <th>num_comments</th>\n",
       "      <th>bank_license</th>\n",
       "      <th>author</th>\n",
       "      <th>bank_name</th>\n",
       "      <th>datetime</th>\n",
       "      <th>text</th>\n",
       "      <th>rating_grade</th>\n",
       "    </tr>\n",
       "  </thead>\n",
       "  <tbody>\n",
       "    <tr>\n",
       "      <th>19</th>\n",
       "      <td>г. Москва</td>\n",
       "      <td>False</td>\n",
       "      <td>Некомпетентность сотрудников банка</td>\n",
       "      <td>2</td>\n",
       "      <td>лицензия № 1481</td>\n",
       "      <td>agelun</td>\n",
       "      <td>Сбербанк России</td>\n",
       "      <td>2015-06-05 15:00:54</td>\n",
       "      <td>Открыт вклад и счет в USD. Плюс к этому есть з...</td>\n",
       "      <td>1.0</td>\n",
       "    </tr>\n",
       "    <tr>\n",
       "      <th>33</th>\n",
       "      <td>г. Ростов-на-Дону</td>\n",
       "      <td>False</td>\n",
       "      <td>Навязывание страховки</td>\n",
       "      <td>1</td>\n",
       "      <td>лицензия № 1481</td>\n",
       "      <td>Joker888</td>\n",
       "      <td>Сбербанк России</td>\n",
       "      <td>2015-06-05 21:35:40</td>\n",
       "      <td>Доброго времени! Вчера мне поступило смс-уведо...</td>\n",
       "      <td>1.0</td>\n",
       "    </tr>\n",
       "  </tbody>\n",
       "</table>\n",
       "</div>"
      ],
      "text/plain": [
       "                 city  rating_not_checked                               title  \\\n",
       "19          г. Москва               False  Некомпетентность сотрудников банка   \n",
       "33  г. Ростов-на-Дону               False               Навязывание страховки   \n",
       "\n",
       "    num_comments     bank_license    author        bank_name  \\\n",
       "19             2  лицензия № 1481    agelun  Сбербанк России   \n",
       "33             1  лицензия № 1481  Joker888  Сбербанк России   \n",
       "\n",
       "               datetime                                               text  \\\n",
       "19  2015-06-05 15:00:54  Открыт вклад и счет в USD. Плюс к этому есть з...   \n",
       "33  2015-06-05 21:35:40  Доброго времени! Вчера мне поступило смс-уведо...   \n",
       "\n",
       "    rating_grade  \n",
       "19           1.0  \n",
       "33           1.0  "
      ]
     },
     "execution_count": 15,
     "metadata": {},
     "output_type": "execute_result"
    }
   ],
   "source": [
    "classification.head(2)"
   ]
  },
  {
   "cell_type": "code",
   "execution_count": 91,
   "metadata": {},
   "outputs": [],
   "source": [
    "classification = classification[['text', 'rating_grade']]"
   ]
  },
  {
   "cell_type": "code",
   "execution_count": 92,
   "metadata": {},
   "outputs": [],
   "source": [
    "x_train, x_test, y_train, y_test = train_test_split(classification.text, classification.rating_grade, test_size=0.33)"
   ]
  },
  {
   "cell_type": "code",
   "execution_count": 93,
   "metadata": {},
   "outputs": [],
   "source": [
    "vec = CountVectorizer(ngram_range=(1, 1))\n",
    "bow = vec.fit_transform(x_train)"
   ]
  },
  {
   "cell_type": "code",
   "execution_count": 94,
   "metadata": {},
   "outputs": [
    {
     "data": {
      "text/plain": [
       "[('самые', 152207),\n",
       " ('неприятные', 99117),\n",
       " ('впечатления', 43506),\n",
       " ('во', 41606),\n",
       " ('первых', 116523),\n",
       " ('постоянно', 130073),\n",
       " ('неработающие', 99331),\n",
       " ('терминалы', 167523),\n",
       " ('связи', 153614),\n",
       " ('чем', 181266),\n",
       " ('полдня', 126401),\n",
       " ('вынужден', 46479),\n",
       " ('скакать', 155756),\n",
       " ('по', 121274),\n",
       " ('городу', 50609),\n",
       " ('чтобы', 182129),\n",
       " ('найти', 91682),\n",
       " ('работающий', 143497),\n",
       " ('вторых', 44632),\n",
       " ('при', 134146)]"
      ]
     },
     "execution_count": 94,
     "metadata": {},
     "output_type": "execute_result"
    }
   ],
   "source": [
    "list(vec.vocabulary_.items())[:20]"
   ]
  },
  {
   "cell_type": "code",
   "execution_count": 95,
   "metadata": {},
   "outputs": [
    {
     "data": {
      "text/plain": [
       "LogisticRegression(random_state=42, solver='liblinear')"
      ]
     },
     "execution_count": 95,
     "metadata": {},
     "output_type": "execute_result"
    }
   ],
   "source": [
    "clf = LogisticRegression(random_state=42, solver='liblinear')\n",
    "clf.fit(bow, y_train)"
   ]
  },
  {
   "cell_type": "code",
   "execution_count": 96,
   "metadata": {
    "scrolled": true
   },
   "outputs": [
    {
     "name": "stdout",
     "output_type": "stream",
     "text": [
      "              precision    recall  f1-score   support\n",
      "\n",
      "         1.0       0.98      0.97      0.98     15784\n",
      "         5.0       0.91      0.94      0.93      4709\n",
      "\n",
      "    accuracy                           0.97     20493\n",
      "   macro avg       0.95      0.96      0.95     20493\n",
      "weighted avg       0.97      0.97      0.97     20493\n",
      "\n"
     ]
    }
   ],
   "source": [
    "pred = clf.predict(vec.transform(x_test))\n",
    "print(classification_report(pred, y_test))"
   ]
  },
  {
   "cell_type": "code",
   "execution_count": 97,
   "metadata": {},
   "outputs": [
    {
     "data": {
      "text/plain": [
       "0.9777438150730728"
      ]
     },
     "execution_count": 97,
     "metadata": {},
     "output_type": "execute_result"
    }
   ],
   "source": [
    "f1_score(pred, y_test)"
   ]
  },
  {
   "cell_type": "code",
   "execution_count": 98,
   "metadata": {},
   "outputs": [
    {
     "data": {
      "text/plain": [
       "0.9658907919777485"
      ]
     },
     "execution_count": 98,
     "metadata": {},
     "output_type": "execute_result"
    }
   ],
   "source": [
    "accuracy_score(pred, y_test)"
   ]
  },
  {
   "cell_type": "markdown",
   "metadata": {},
   "source": [
    "триграммы"
   ]
  },
  {
   "cell_type": "code",
   "execution_count": 34,
   "metadata": {},
   "outputs": [],
   "source": [
    "from nltk import ngrams"
   ]
  },
  {
   "cell_type": "code",
   "execution_count": 99,
   "metadata": {
    "scrolled": true
   },
   "outputs": [
    {
     "name": "stdout",
     "output_type": "stream",
     "text": [
      "              precision    recall  f1-score   support\n",
      "\n",
      "         1.0       0.99      0.87      0.93     17836\n",
      "         5.0       0.52      0.95      0.67      2657\n",
      "\n",
      "    accuracy                           0.88     20493\n",
      "   macro avg       0.76      0.91      0.80     20493\n",
      "weighted avg       0.93      0.88      0.89     20493\n",
      "\n"
     ]
    }
   ],
   "source": [
    "vec = CountVectorizer(ngram_range=(3, 3))\n",
    "bow = vec.fit_transform(x_train)\n",
    "clf = LogisticRegression(random_state=42)\n",
    "clf.fit(bow, y_train)\n",
    "pred = clf.predict(vec.transform(x_test))\n",
    "print(classification_report(pred, y_test))"
   ]
  },
  {
   "cell_type": "code",
   "execution_count": 101,
   "metadata": {},
   "outputs": [
    {
     "data": {
      "text/plain": [
       "0.9266863923010251"
      ]
     },
     "execution_count": 101,
     "metadata": {},
     "output_type": "execute_result"
    }
   ],
   "source": [
    "f1_score(pred, y_test)"
   ]
  },
  {
   "cell_type": "code",
   "execution_count": 102,
   "metadata": {},
   "outputs": [
    {
     "data": {
      "text/plain": [
       "0.880300590445518"
      ]
     },
     "execution_count": 102,
     "metadata": {},
     "output_type": "execute_result"
    }
   ],
   "source": [
    "accuracy_score(pred, y_test)"
   ]
  },
  {
   "cell_type": "code",
   "execution_count": null,
   "metadata": {},
   "outputs": [],
   "source": []
  },
  {
   "cell_type": "markdown",
   "metadata": {},
   "source": [
    "3. Сравните, как изменяется качество решения задачи при использовании скрытых тем в качестве признаков:\n",
    "1-ый вариант: tf-idf преобразование (sklearn.feature_extraction.text.TfidfTransformer) и сингулярное разложение (оно же – латентый семантический анализ) (sklearn.decomposition.TruncatedSVD),\n",
    "2-ой вариант: тематические модели LDA (sklearn.decomposition.LatentDirichletAllocation). Используйте accuracy и F-measure для оценки качества классификации."
   ]
  },
  {
   "cell_type": "code",
   "execution_count": 39,
   "metadata": {},
   "outputs": [],
   "source": [
    "from sklearn.manifold import TSNE\n",
    "from sklearn.decomposition import TruncatedSVD\n",
    "from sklearn.pipeline import Pipeline\n",
    "from sklearn.preprocessing import Normalizer\n",
    "from sklearn.feature_extraction.text import TfidfVectorizer"
   ]
  },
  {
   "cell_type": "code",
   "execution_count": 134,
   "metadata": {},
   "outputs": [],
   "source": [
    "vectors = TfidfVectorizer().fit_transform(classification.text) # строим тф-идф матрицу документ-слово\n",
    "X_reduced = TruncatedSVD(n_components=5, random_state=0).fit_transform(vectors) # оставляем n главных компонент"
   ]
  },
  {
   "cell_type": "code",
   "execution_count": 135,
   "metadata": {
    "scrolled": false
   },
   "outputs": [
    {
     "data": {
      "text/plain": [
       "array([[ 0.24283488,  0.01732968, -0.07200819, -0.05383434, -0.00238898],\n",
       "       [ 0.25108347, -0.03584885,  0.10456853,  0.10236993,  0.0119583 ],\n",
       "       [ 0.18515298, -0.05051991,  0.04033646, -0.06567233, -0.01873354],\n",
       "       ...,\n",
       "       [ 0.18605117, -0.00564479,  0.02518627, -0.01517126,  0.02213666],\n",
       "       [ 0.17043397, -0.01833799,  0.08039265, -0.0004457 , -0.01750183],\n",
       "       [ 0.11688444, -0.05769907, -0.03095766, -0.01145335,  0.02149463]])"
      ]
     },
     "execution_count": 135,
     "metadata": {},
     "output_type": "execute_result"
    }
   ],
   "source": [
    "X_reduced"
   ]
  },
  {
   "cell_type": "code",
   "execution_count": 136,
   "metadata": {},
   "outputs": [],
   "source": [
    "x_train, x_test, y_train, y_test = train_test_split(X_reduced, classification.rating_grade, test_size=0.33)"
   ]
  },
  {
   "cell_type": "code",
   "execution_count": 137,
   "metadata": {
    "scrolled": false
   },
   "outputs": [
    {
     "data": {
      "text/plain": [
       "LogisticRegression(random_state=42, solver='liblinear')"
      ]
     },
     "execution_count": 137,
     "metadata": {},
     "output_type": "execute_result"
    }
   ],
   "source": [
    "clf_tsvd = LogisticRegression(random_state=42, solver='liblinear')\n",
    "clf_tsvd.fit(x_train, y_train)"
   ]
  },
  {
   "cell_type": "code",
   "execution_count": 138,
   "metadata": {},
   "outputs": [
    {
     "name": "stdout",
     "output_type": "stream",
     "text": [
      "              precision    recall  f1-score   support\n",
      "\n",
      "         1.0       0.95      0.89      0.92     16633\n",
      "         5.0       0.64      0.81      0.72      3860\n",
      "\n",
      "    accuracy                           0.88     20493\n",
      "   macro avg       0.80      0.85      0.82     20493\n",
      "weighted avg       0.89      0.88      0.88     20493\n",
      "\n"
     ]
    }
   ],
   "source": [
    "pred = clf_tsvd.predict(x_test)\n",
    "print(classification_report(pred, y_test))"
   ]
  },
  {
   "cell_type": "code",
   "execution_count": 139,
   "metadata": {},
   "outputs": [
    {
     "data": {
      "text/plain": [
       "0.922804730421827"
      ]
     },
     "execution_count": 139,
     "metadata": {},
     "output_type": "execute_result"
    }
   ],
   "source": [
    "f1_score(pred, y_test)"
   ]
  },
  {
   "cell_type": "code",
   "execution_count": 109,
   "metadata": {},
   "outputs": [
    {
     "data": {
      "text/plain": [
       "0.8818133021031572"
      ]
     },
     "execution_count": 109,
     "metadata": {},
     "output_type": "execute_result"
    }
   ],
   "source": [
    "accuracy_score(pred, y_test)"
   ]
  },
  {
   "cell_type": "code",
   "execution_count": null,
   "metadata": {},
   "outputs": [],
   "source": []
  },
  {
   "cell_type": "code",
   "execution_count": 160,
   "metadata": {},
   "outputs": [],
   "source": [
    "from sklearn.decomposition import LatentDirichletAllocation"
   ]
  },
  {
   "cell_type": "code",
   "execution_count": 161,
   "metadata": {},
   "outputs": [],
   "source": [
    "lda = LatentDirichletAllocation(n_components=5, random_state=117)"
   ]
  },
  {
   "cell_type": "code",
   "execution_count": 162,
   "metadata": {},
   "outputs": [],
   "source": [
    "X_LDA = lda.fit_transform(vectors)"
   ]
  },
  {
   "cell_type": "code",
   "execution_count": 163,
   "metadata": {},
   "outputs": [],
   "source": [
    "x_train, x_test, y_train, y_test = train_test_split(X_LDA, classification.rating_grade, test_size=0.33)"
   ]
  },
  {
   "cell_type": "code",
   "execution_count": 164,
   "metadata": {
    "scrolled": true
   },
   "outputs": [
    {
     "data": {
      "text/plain": [
       "LogisticRegression(random_state=42, solver='liblinear')"
      ]
     },
     "execution_count": 164,
     "metadata": {},
     "output_type": "execute_result"
    }
   ],
   "source": [
    "clf_lda = LogisticRegression(random_state=42, solver='liblinear')\n",
    "clf_lda.fit(x_train, y_train)"
   ]
  },
  {
   "cell_type": "code",
   "execution_count": 165,
   "metadata": {},
   "outputs": [
    {
     "name": "stdout",
     "output_type": "stream",
     "text": [
      "              precision    recall  f1-score   support\n",
      "\n",
      "         1.0       1.00      0.76      0.87     20493\n",
      "         5.0       0.00      0.00      0.00         0\n",
      "\n",
      "    accuracy                           0.76     20493\n",
      "   macro avg       0.50      0.38      0.43     20493\n",
      "weighted avg       1.00      0.76      0.87     20493\n",
      "\n"
     ]
    },
    {
     "name": "stderr",
     "output_type": "stream",
     "text": [
      "C:\\Users\\35846\\anaconda3\\lib\\site-packages\\sklearn\\metrics\\_classification.py:1221: UndefinedMetricWarning: Recall and F-score are ill-defined and being set to 0.0 in labels with no true samples. Use `zero_division` parameter to control this behavior.\n",
      "  _warn_prf(average, modifier, msg_start, len(result))\n"
     ]
    }
   ],
   "source": [
    "pred = clf_tsvd.predict(x_test)\n",
    "print(classification_report(pred, y_test))"
   ]
  },
  {
   "cell_type": "code",
   "execution_count": 166,
   "metadata": {},
   "outputs": [
    {
     "data": {
      "text/plain": [
       "0.8659103486441615"
      ]
     },
     "execution_count": 166,
     "metadata": {},
     "output_type": "execute_result"
    }
   ],
   "source": [
    "f1_score(pred, y_test)"
   ]
  },
  {
   "cell_type": "code",
   "execution_count": 167,
   "metadata": {},
   "outputs": [
    {
     "data": {
      "text/plain": [
       "0.7635290099058215"
      ]
     },
     "execution_count": 167,
     "metadata": {},
     "output_type": "execute_result"
    }
   ],
   "source": [
    "accuracy_score(pred, y_test)"
   ]
  },
  {
   "cell_type": "markdown",
   "metadata": {},
   "source": [
    "TfIdf и TruncSVD получают лучшие значения f1_score = 0,92 и accuracy=0,88"
   ]
  }
 ],
 "metadata": {
  "kernelspec": {
   "display_name": "Python 3",
   "language": "python",
   "name": "python3"
  },
  "language_info": {
   "codemirror_mode": {
    "name": "ipython",
    "version": 3
   },
   "file_extension": ".py",
   "mimetype": "text/x-python",
   "name": "python",
   "nbconvert_exporter": "python",
   "pygments_lexer": "ipython3",
   "version": "3.8.5"
  }
 },
 "nbformat": 4,
 "nbformat_minor": 4
}
