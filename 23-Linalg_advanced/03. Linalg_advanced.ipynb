{
 "cells": [
  {
   "cell_type": "markdown",
   "metadata": {},
   "source": [
    "### Домашнее задание №3. Линейная алгебра. Матрицы"
   ]
  },
  {
   "cell_type": "markdown",
   "metadata": {},
   "source": [
    "1. При помощи линейных отображений:  \n",
    "●Уменьшить объект в два раза  \n",
    "●Повернуть на 130 градусов  \n",
    "●Отразить объект относительно прямой y=x  \n",
    "●Вычислить определитель композиции преобразований(итоговой матрицы реализующей все три отображения)"
   ]
  },
  {
   "cell_type": "code",
   "execution_count": 1,
   "metadata": {},
   "outputs": [],
   "source": [
    "import numpy as np\n",
    "import matplotlib.pyplot as plt"
   ]
  },
  {
   "cell_type": "code",
   "execution_count": 7,
   "metadata": {
    "scrolled": false
   },
   "outputs": [
    {
     "data": {
      "text/plain": [
       "(-200.0, 200.0)"
      ]
     },
     "execution_count": 7,
     "metadata": {},
     "output_type": "execute_result"
    },
    {
     "data": {
      "image/png": "[encoded data removed]",
      "text/plain": [
       "<Figure size 432x288 with 1 Axes>"
      ]
     },
     "metadata": {
      "needs_background": "light"
     },
     "output_type": "display_data"
    }
   ],
   "source": [
    "A = [\n",
    "    [-100, -100, 1],\n",
    "    [-100, 100, 1],\n",
    "    [100, 100, 1],\n",
    "    [0, 0, 1],\n",
    "    [100, -100, 1],\n",
    "    [-100, -100, 1]\n",
    "]\n",
    "A = np.array(A)\n",
    "x = A[:,0]\n",
    "y = A[:,1]\n",
    "z = A[:,2]\n",
    "plt.plot(x, y)\n",
    "plt.ylim([-200, 200])\n",
    "plt.xlim([-200, 200])"
   ]
  },
  {
   "cell_type": "markdown",
   "metadata": {},
   "source": [
    "1. уменьшение объекта в 2 раза. Для масштабирования используются диагональные матрицы перехода"
   ]
  },
  {
   "cell_type": "code",
   "execution_count": 13,
   "metadata": {},
   "outputs": [],
   "source": [
    "B = np.array([[0.5,0,0], # диагональная матрица\n",
    "              [0,0.5,0],\n",
    "              [0,0,0.5]\n",
    "              ])"
   ]
  },
  {
   "cell_type": "code",
   "execution_count": 18,
   "metadata": {},
   "outputs": [
    {
     "data": {
      "text/plain": [
       "array([[-50. , -50. ,   0.5],\n",
       "       [-50. ,  50. ,   0.5],\n",
       "       [ 50. ,  50. ,   0.5],\n",
       "       [  0. ,   0. ,   0.5],\n",
       "       [ 50. , -50. ,   0.5],\n",
       "       [-50. , -50. ,   0.5]])"
      ]
     },
     "execution_count": 18,
     "metadata": {},
     "output_type": "execute_result"
    }
   ],
   "source": [
    "C = np.matmul(A,B)\n",
    "C"
   ]
  },
  {
   "cell_type": "code",
   "execution_count": 19,
   "metadata": {},
   "outputs": [
    {
     "data": {
      "text/plain": [
       "(-200.0, 200.0)"
      ]
     },
     "execution_count": 19,
     "metadata": {},
     "output_type": "execute_result"
    },
    {
     "data": {
      "image/png": "[encoded data removed]",
      "text/plain": [
       "<Figure size 432x288 with 1 Axes>"
      ]
     },
     "metadata": {
      "needs_background": "light"
     },
     "output_type": "display_data"
    }
   ],
   "source": [
    "x = C[:,0]\n",
    "y = C[:,1]\n",
    "plt.plot(x, y)\n",
    "plt.ylim([-200, 200])\n",
    "plt.xlim([-200, 200])"
   ]
  },
  {
   "cell_type": "markdown",
   "metadata": {},
   "source": [
    "2. Повернуть на 130 градусов. Для поворота используется ортогональная матрица"
   ]
  },
  {
   "cell_type": "code",
   "execution_count": 22,
   "metadata": {},
   "outputs": [],
   "source": [
    "import math"
   ]
  },
  {
   "cell_type": "code",
   "execution_count": 35,
   "metadata": {},
   "outputs": [
    {
     "data": {
      "text/plain": [
       "-1.0"
      ]
     },
     "execution_count": 35,
     "metadata": {},
     "output_type": "execute_result"
    }
   ],
   "source": [
    "cos180 = math.cos(math.radians(180))\n",
    "cos180"
   ]
  },
  {
   "cell_type": "code",
   "execution_count": 82,
   "metadata": {},
   "outputs": [],
   "source": [
    "cos_a = math.cos(math.radians(130))\n",
    "sin_a = math.sin(math.radians(130))"
   ]
  },
  {
   "cell_type": "code",
   "execution_count": 83,
   "metadata": {},
   "outputs": [],
   "source": [
    "D = np.array([[cos_a, -sin_a, 0],    # матрица вращения вокруг оси декартовой системы координат в трехмерном пространстве\n",
    "              [sin_a, cos_a, 0],    # вращение вокруг оси z\n",
    "              [0, 0, 1]\n",
    "             ])"
   ]
  },
  {
   "cell_type": "code",
   "execution_count": 84,
   "metadata": {
    "scrolled": true
   },
   "outputs": [
    {
     "data": {
      "text/plain": [
       "array([[ -6.16284167,  70.44160264,   0.5       ],\n",
       "       [ 70.44160264,   6.16284167,   0.5       ],\n",
       "       [  6.16284167, -70.44160264,   0.5       ],\n",
       "       [  0.        ,   0.        ,   0.5       ],\n",
       "       [-70.44160264,  -6.16284167,   0.5       ],\n",
       "       [ -6.16284167,  70.44160264,   0.5       ]])"
      ]
     },
     "execution_count": 84,
     "metadata": {},
     "output_type": "execute_result"
    }
   ],
   "source": [
    "E = np.matmul(C,D)\n",
    "E"
   ]
  },
  {
   "cell_type": "code",
   "execution_count": 85,
   "metadata": {
    "scrolled": false
   },
   "outputs": [
    {
     "data": {
      "text/plain": [
       "(-200.0, 200.0)"
      ]
     },
     "execution_count": 85,
     "metadata": {},
     "output_type": "execute_result"
    },
    {
     "data": {
      "image/png": "[encoded data removed]",
      "text/plain": [
       "<Figure size 432x288 with 1 Axes>"
      ]
     },
     "metadata": {
      "needs_background": "light"
     },
     "output_type": "display_data"
    }
   ],
   "source": [
    "x = E[:,0]\n",
    "y = E[:,1]\n",
    "plt.plot(x, y)\n",
    "plt.ylim([-200, 200])\n",
    "plt.xlim([-200, 200])"
   ]
  },
  {
   "cell_type": "markdown",
   "metadata": {},
   "source": [
    "3. Отражение объекта относительно прямой y=x. Применяется симметричная матрица"
   ]
  },
  {
   "cell_type": "code",
   "execution_count": 93,
   "metadata": {},
   "outputs": [],
   "source": [
    "F = np.array([[1,2,2],\n",
    "              [2,1,2],\n",
    "              [2,2,1]\n",
    "             ])"
   ]
  },
  {
   "cell_type": "code",
   "execution_count": 108,
   "metadata": {},
   "outputs": [
    {
     "data": {
      "text/plain": [
       "array([[ 135.72036361,   59.1159193 ,  129.05752194],\n",
       "       [  83.76728598,  148.04604695,  153.70888862],\n",
       "       [-133.72036361,  -57.1159193 , -128.05752194],\n",
       "       [   1.        ,    1.        ,    0.5       ],\n",
       "       [ -81.76728598, -146.04604695, -152.70888862],\n",
       "       [ 135.72036361,   59.1159193 ,  129.05752194]])"
      ]
     },
     "execution_count": 108,
     "metadata": {},
     "output_type": "execute_result"
    }
   ],
   "source": [
    "G = np.matmul(E,F)\n",
    "G"
   ]
  },
  {
   "cell_type": "code",
   "execution_count": 95,
   "metadata": {},
   "outputs": [
    {
     "data": {
      "text/plain": [
       "(-200.0, 200.0)"
      ]
     },
     "execution_count": 95,
     "metadata": {},
     "output_type": "execute_result"
    },
    {
     "data": {
      "image/png": "[encoded data removed]",
      "text/plain": [
       "<Figure size 432x288 with 1 Axes>"
      ]
     },
     "metadata": {
      "needs_background": "light"
     },
     "output_type": "display_data"
    }
   ],
   "source": [
    "x = G[:,0]\n",
    "y = G[:,1]\n",
    "plt.plot(x, y)\n",
    "plt.ylim([-200, 200])\n",
    "plt.xlim([-200, 200])"
   ]
  },
  {
   "cell_type": "markdown",
   "metadata": {},
   "source": [
    "4. Вычислить определитель композиции преобразований(итоговой матрицы реализующей все три отображения)"
   ]
  },
  {
   "cell_type": "code",
   "execution_count": 123,
   "metadata": {},
   "outputs": [
    {
     "data": {
      "text/plain": [
       "array([[-1.08743825, -1.02580983, -1.40883205],\n",
       "       [-0.25976539,  0.44465064,  0.12325683],\n",
       "       [ 1.        ,  1.        ,  0.5       ]])"
      ]
     },
     "execution_count": 123,
     "metadata": {},
     "output_type": "execute_result"
    }
   ],
   "source": [
    "R =B@D@F #матрица, результирующая все три отображения\n",
    "R"
   ]
  },
  {
   "cell_type": "code",
   "execution_count": 126,
   "metadata": {},
   "outputs": [
    {
     "data": {
      "text/plain": [
       "0.6250000000000001"
      ]
     },
     "execution_count": 126,
     "metadata": {},
     "output_type": "execute_result"
    }
   ],
   "source": [
    "np.linalg.det(R) # определитель"
   ]
  },
  {
   "cell_type": "markdown",
   "metadata": {},
   "source": [
    "2. Решите систему уравнений, используя матричный подход \n",
    "\n",
    "x + z  = 2  \n",
    "-x + y - 2*z + w = -2  \n",
    "4*x + z - 2*w = 0  \n",
    "-4*x + 4*y + w = 5"
   ]
  },
  {
   "cell_type": "markdown",
   "metadata": {},
   "source": [
    "приведем систему к матричному виду"
   ]
  },
  {
   "cell_type": "code",
   "execution_count": 134,
   "metadata": {},
   "outputs": [],
   "source": [
    "An = np.array([[1,0,1,0],\n",
    "               [-1,1,-2,1],\n",
    "               [4,0,1,-2],\n",
    "               [-4,4,0,1]\n",
    "              ])\n",
    "\n",
    "Bn = np.array([[2],[-2],[0],[5]])"
   ]
  },
  {
   "cell_type": "code",
   "execution_count": 154,
   "metadata": {},
   "outputs": [
    {
     "data": {
      "text/plain": [
       "24.999999999999996"
      ]
     },
     "execution_count": 154,
     "metadata": {},
     "output_type": "execute_result"
    }
   ],
   "source": [
    "# Если матрица А обратима, то возможно решение системы в виде x = A**(-1)*b\n",
    "# матрица обратима, если ее определетель не равен нулю\n",
    "\n",
    "np.linalg.det(An) #  определетель"
   ]
  },
  {
   "cell_type": "code",
   "execution_count": 171,
   "metadata": {},
   "outputs": [],
   "source": [
    "N = np.matmul(np.linalg.inv(An), Bn)"
   ]
  },
  {
   "cell_type": "code",
   "execution_count": 178,
   "metadata": {},
   "outputs": [
    {
     "name": "stdout",
     "output_type": "stream",
     "text": [
      "x = [0.] \n",
      "y = [1.] \n",
      "z = [2.] \n",
      "w = [1.]\n"
     ]
    }
   ],
   "source": [
    "print('x =', N[0],  '\\ny =', N[1],'\\nz =', N[2], '\\nw =', N[3] )"
   ]
  }
 ],
 "metadata": {
  "kernelspec": {
   "display_name": "Python 3",
   "language": "python",
   "name": "python3"
  },
  "language_info": {
   "codemirror_mode": {
    "name": "ipython",
    "version": 3
   },
   "file_extension": ".py",
   "mimetype": "text/x-python",
   "name": "python",
   "nbconvert_exporter": "python",
   "pygments_lexer": "ipython3",
   "version": "3.8.5"
  }
 },
 "nbformat": 4,
 "nbformat_minor": 4
}
