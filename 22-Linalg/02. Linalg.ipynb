{
 "cells": [
  {
   "cell_type": "markdown",
   "metadata": {},
   "source": [
    "### Домашнее задание №2. Линейная алгебра. Матрицы"
   ]
  },
  {
   "cell_type": "markdown",
   "metadata": {},
   "source": [
    "●Создайте случайную матрицу А1 размерностью 5 на 5  \n",
    "●Транспонируйте матрицу A1  \n",
    "●Найдите обратную матрицу для А1  \n",
    "●Создайте диагональную матрицу - поэлементно перемножив единичнуюматрицу I и случайную матрицу A2 размерности 4 на 4  \n",
    "●Создайте нулевую матрицу размерности 3 на 3  \n",
    "●Для всех полученных матриц найдите: определитель, ранг и собственныезначения  \n",
    "●Проанализируйте результаты"
   ]
  },
  {
   "cell_type": "code",
   "execution_count": 10,
   "metadata": {},
   "outputs": [],
   "source": [
    "import numpy as np\n",
    "import random"
   ]
  },
  {
   "cell_type": "markdown",
   "metadata": {},
   "source": [
    "#### Случайная матрица А1 размерностью 5 на 5"
   ]
  },
  {
   "cell_type": "code",
   "execution_count": 75,
   "metadata": {
    "scrolled": true
   },
   "outputs": [
    {
     "data": {
      "text/plain": [
       "array([[4, 8, 8, 5, 7],\n",
       "       [6, 6, 9, 3, 5],\n",
       "       [8, 9, 9, 9, 4],\n",
       "       [8, 8, 8, 9, 4],\n",
       "       [9, 6, 3, 6, 6]])"
      ]
     },
     "execution_count": 75,
     "metadata": {},
     "output_type": "execute_result"
    }
   ],
   "source": [
    "A1 = np.random.randint(3,10, size = (5,5) ) #случайная матрица целых чисел 5x5 с диапазоном 3...10\n",
    "A1"
   ]
  },
  {
   "cell_type": "code",
   "execution_count": 80,
   "metadata": {
    "scrolled": false
   },
   "outputs": [
    {
     "name": "stdout",
     "output_type": "stream",
     "text": [
      "Определитель A1:  987.0000000000003 \n",
      "Ранг А1: 5 \n",
      "Собственные значения A1: [33.57833239  4.51152247 -3.8304934   1.18093844 -1.44029989]\n"
     ]
    }
   ],
   "source": [
    "print('Определитель A1: ',np.linalg.det(A1), '\\nРанг А1:',np.linalg.matrix_rank(A1), \n",
    "     '\\nСобственные значения A1:', np.linalg.eigvals(A1))"
   ]
  },
  {
   "cell_type": "markdown",
   "metadata": {},
   "source": [
    "#### Транспонированная матрица"
   ]
  },
  {
   "cell_type": "code",
   "execution_count": 78,
   "metadata": {},
   "outputs": [
    {
     "data": {
      "text/plain": [
       "array([[4, 6, 8, 8, 9],\n",
       "       [8, 6, 9, 8, 6],\n",
       "       [8, 9, 9, 8, 3],\n",
       "       [5, 3, 9, 9, 6],\n",
       "       [7, 5, 4, 4, 6]])"
      ]
     },
     "execution_count": 78,
     "metadata": {},
     "output_type": "execute_result"
    }
   ],
   "source": [
    "A1T = np.transpose(A1) # транспонирование матрицы\n",
    "A1T"
   ]
  },
  {
   "cell_type": "code",
   "execution_count": 79,
   "metadata": {
    "scrolled": false
   },
   "outputs": [
    {
     "name": "stdout",
     "output_type": "stream",
     "text": [
      "Определитель A1T:  987.0000000000003 \n",
      "Ранг А1T: 5 \n",
      "Собственные значения A1T: [33.57833239  4.51152247 -3.8304934   1.18093844 -1.44029989]\n"
     ]
    }
   ],
   "source": [
    "print('Определитель A1T: ',np.linalg.det(A1T), '\\nРанг А1T:',np.linalg.matrix_rank(A1T), \n",
    "     '\\nСобственные значения A1T:', np.linalg.eigvals(A1T))"
   ]
  },
  {
   "cell_type": "markdown",
   "metadata": {},
   "source": [
    "#### Обратная матрица"
   ]
  },
  {
   "cell_type": "code",
   "execution_count": 84,
   "metadata": {},
   "outputs": [
    {
     "data": {
      "text/plain": [
       "array([[-0.19148936,  0.13069909,  0.15805471, -0.18237082,  0.13069909],\n",
       "       [ 0.0212766 , -0.17325228,  1.39513678, -1.45592705,  0.16008105],\n",
       "       [-0.0212766 ,  0.17325228, -0.39513678,  0.45592705, -0.16008105],\n",
       "       [ 0.08510638, -0.12158055, -0.70516717,  0.89057751, -0.12158055],\n",
       "       [ 0.19148936,  0.01215805, -0.72948328,  0.61094225,  0.01215805]])"
      ]
     },
     "execution_count": 84,
     "metadata": {},
     "output_type": "execute_result"
    }
   ],
   "source": [
    "A1_inv = np.linalg.inv(A1) # обратная матрица\n",
    "A1_inv"
   ]
  },
  {
   "cell_type": "code",
   "execution_count": 94,
   "metadata": {},
   "outputs": [
    {
     "name": "stdout",
     "output_type": "stream",
     "text": [
      "Определитель A1_inv:  0.0010131712259371813 \n",
      "Ранг A1_inv: 5 \n",
      "Собственные значения A1_inv: [ 0.84678419 -0.69429985 -0.26106297  0.22165466  0.02978111]\n"
     ]
    }
   ],
   "source": [
    "print('Определитель A1_inv: ',np.linalg.det(A1_inv), '\\nРанг A1_inv:',np.linalg.matrix_rank(A1_inv), \n",
    "     '\\nСобственные значения A1_inv:', np.linalg.eigvals(A1_inv))"
   ]
  },
  {
   "cell_type": "code",
   "execution_count": 88,
   "metadata": {
    "scrolled": true
   },
   "outputs": [
    {
     "data": {
      "text/plain": [
       "array([[ 1.,  0., -0.,  0.,  0.],\n",
       "       [-0.,  1., -0.,  0., -0.],\n",
       "       [ 0., -0.,  1., -0.,  0.],\n",
       "       [ 0., -0., -0.,  1., -0.],\n",
       "       [-0., -0.,  0.,  0.,  1.]])"
      ]
     },
     "execution_count": 88,
     "metadata": {},
     "output_type": "execute_result"
    }
   ],
   "source": [
    "np.round((np.matmul(A1, A1_inv)),2) # произведение исходной матрицы с обратной должно давать единичную матрицу"
   ]
  },
  {
   "cell_type": "markdown",
   "metadata": {},
   "source": [
    "#### Создайте диагональную матрицу - поэлементно перемножив единичную матрицу I и случайную матрицу A2 размерности 4 на 4"
   ]
  },
  {
   "cell_type": "code",
   "execution_count": 90,
   "metadata": {},
   "outputs": [
    {
     "data": {
      "text/plain": [
       "array([[0.74211807, 0.86109788, 0.41173365, 0.91797848],\n",
       "       [0.36941026, 0.48012421, 0.73763026, 0.64023776],\n",
       "       [0.37511461, 0.53568124, 0.82809159, 0.408788  ],\n",
       "       [0.65348561, 0.32214556, 0.97133121, 0.87190426]])"
      ]
     },
     "execution_count": 90,
     "metadata": {},
     "output_type": "execute_result"
    }
   ],
   "source": [
    "A2 = np.random.random([4,4])\n",
    "A2"
   ]
  },
  {
   "cell_type": "code",
   "execution_count": 92,
   "metadata": {},
   "outputs": [
    {
     "data": {
      "text/plain": [
       "array([[1., 0., 0., 0.],\n",
       "       [0., 1., 0., 0.],\n",
       "       [0., 0., 1., 0.],\n",
       "       [0., 0., 0., 1.]])"
      ]
     },
     "execution_count": 92,
     "metadata": {},
     "output_type": "execute_result"
    }
   ],
   "source": [
    "I = np.eye(4)\n",
    "I"
   ]
  },
  {
   "cell_type": "code",
   "execution_count": 93,
   "metadata": {
    "scrolled": true
   },
   "outputs": [
    {
     "data": {
      "text/plain": [
       "array([[0.74211807, 0.        , 0.        , 0.        ],\n",
       "       [0.        , 0.48012421, 0.        , 0.        ],\n",
       "       [0.        , 0.        , 0.82809159, 0.        ],\n",
       "       [0.        , 0.        , 0.        , 0.87190426]])"
      ]
     },
     "execution_count": 93,
     "metadata": {},
     "output_type": "execute_result"
    }
   ],
   "source": [
    "A2I = A2*I\n",
    "A2I"
   ]
  },
  {
   "cell_type": "code",
   "execution_count": 95,
   "metadata": {
    "scrolled": true
   },
   "outputs": [
    {
     "name": "stdout",
     "output_type": "stream",
     "text": [
      "Определитель A2I:  0.2572608972815545 \n",
      "Ранг A2I: 4 \n",
      "Собственные значения A2I: [0.74211807 0.48012421 0.82809159 0.87190426]\n"
     ]
    }
   ],
   "source": [
    "print('Определитель A2I: ',np.linalg.det(A2I), '\\nРанг A2I:',np.linalg.matrix_rank(A2I), \n",
    "     '\\nСобственные значения A2I:', np.linalg.eigvals(A2I))"
   ]
  },
  {
   "cell_type": "markdown",
   "metadata": {},
   "source": [
    "#### Нулевая матрица размерности 3 на 3"
   ]
  },
  {
   "cell_type": "code",
   "execution_count": 98,
   "metadata": {
    "scrolled": true
   },
   "outputs": [
    {
     "data": {
      "text/plain": [
       "array([[0., 0., 0.],\n",
       "       [0., 0., 0.],\n",
       "       [0., 0., 0.]])"
      ]
     },
     "execution_count": 98,
     "metadata": {},
     "output_type": "execute_result"
    }
   ],
   "source": [
    "A3 = np.zeros([3,3])\n",
    "A3"
   ]
  },
  {
   "cell_type": "code",
   "execution_count": 99,
   "metadata": {},
   "outputs": [
    {
     "name": "stdout",
     "output_type": "stream",
     "text": [
      "Определитель A3:  0.0 \n",
      "Ранг A3: 0 \n",
      "Собственные значения A3: [0. 0. 0.]\n"
     ]
    }
   ],
   "source": [
    "print('Определитель A3: ',np.linalg.det(A3), '\\nРанг A3:',np.linalg.matrix_rank(A3), \n",
    "     '\\nСобственные значения A3:', np.linalg.eigvals(A3))"
   ]
  }
 ],
 "metadata": {
  "kernelspec": {
   "display_name": "Python 3",
   "language": "python",
   "name": "python3"
  },
  "language_info": {
   "codemirror_mode": {
    "name": "ipython",
    "version": 3
   },
   "file_extension": ".py",
   "mimetype": "text/x-python",
   "name": "python",
   "nbconvert_exporter": "python",
   "pygments_lexer": "ipython3",
   "version": "3.8.5"
  }
 },
 "nbformat": 4,
 "nbformat_minor": 4
}
