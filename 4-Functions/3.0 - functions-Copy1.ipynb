{
 "cells": [
  {
   "cell_type": "markdown",
   "metadata": {},
   "source": [
    "##### Написать программу, которая будет на основе хранимых данных исполнять пользовательские команды.\n",
    "\n",
    "Исходные данные имеют следующую структуру:\n",
    "\n",
    "перечень всех документов\n",
    "documents = [\n",
    " {'type': 'passport', 'number': '2207 876234', 'name': 'Василий Гупкин'},\n",
    " {'type': 'invoice', 'number': '11-2', 'name': 'Геннадий Покемонов'},\n",
    " {'type': 'insurance', 'number': '10006', 'name': 'Аристарх Павлов'}\n",
    "]\n",
    "перечень полок, на которых хранятся документы (если документ есть в documents, то он обязательно должен быть и в directories)\n",
    "directories = {\n",
    " '1': ['2207 876234', '11-2'],\n",
    " '2': ['10006'],\n",
    " '3': []\n",
    "}\n",
    "Общие требования к программе:\n",
    "\n",
    "код должен быть грамотно декомпозирован (каждая функция отвечает за свою конкретную задачу, дублирующийся функционал переиспользуется, а его код не повторяется);\n",
    "в коде отсутствуют глобальные переменные (за исключением documents и directories);\n",
    "пользовательский ввод обрабатывается в цикле while до тех пор, пока пользователь явно не завершит программу (вводом команды \"q\")."
   ]
  },
  {
   "cell_type": "code",
   "execution_count": 25,
   "metadata": {},
   "outputs": [],
   "source": [
    "documents = [\n",
    " {'type': 'passport', 'number': '2207 876234', 'name': 'Василий Гупкин'},\n",
    " {'type': 'invoice', 'number': '11-2', 'name': 'Геннадий Покемонов'},\n",
    " {'type': 'insurance', 'number': '10006', 'name': 'Аристарх Павлов'}\n",
    "]\n",
    "\n",
    "directories = {\n",
    " '1': ['2207 876234', '11-2'],\n",
    " '2': ['10006'],\n",
    " '3': []\n",
    "}"
   ]
  },
  {
   "cell_type": "code",
   "execution_count": 30,
   "metadata": {},
   "outputs": [],
   "source": [
    "def doc_owner(doc): #1. Поиск владельца по номеру документа (p)\n",
    "    enter=input('Введите номер документа: \\n')\n",
    "    for document in doc:\n",
    "        out=('Документ не найден в базе')\n",
    "        if document['number'] == enter:\n",
    "            print('Владелец документа: ')\n",
    "            out=document['name']\n",
    "            break\n",
    "    return out\n",
    "\n",
    "def doc_place(doc2):    #2. Поиск полки хранения по номеру документа (s)\n",
    "    enter = input('Введите номер документа:\\n')\n",
    "    for i in doc2:\n",
    "        q=('Документ не найден в базе')\n",
    "        if enter in doc2.get(i):\n",
    "            q=i\n",
    "            return('Документ хранится на полке:', q)\n",
    "            \n",
    "            break\n",
    "    return q\n",
    "\n",
    "def doc_all(doc, doc2):    #3. Полная информация по всем документам (l)\n",
    "    doc_new=[]\n",
    "    for document in doc:\n",
    "        dict_i={}\n",
    "        dict_i.setdefault('№', document['number'])\n",
    "        dict_i.setdefault('тип', document['type'])\n",
    "        dict_i.setdefault('владелец', document['name'])\n",
    "        for key, value in doc2.items():\n",
    "            for num in value:\n",
    "                if num == document['number']:\n",
    "                    dict_i.setdefault('полка хранения', key)\n",
    "\n",
    "        doc_new.append(dict_i)\n",
    "    return(doc_new)\n",
    "\n",
    "def doc_add(doc, doc2):       #4. Добавление новой полки (ads)\n",
    "    shelf=input('Введите номер полки \\n')\n",
    "    if shelf in doc2.keys():\n",
    "        print('Такая полка уже существует. Текущий перечень полок:', list(doc2.keys()))\n",
    "    else:\n",
    "        doc2.setdefault(shelf, [])\n",
    "        print('Полка добавлена. Текущий перечень полок: ', list(doc2.keys()))\n",
    "        \n",
    "def doc_dell(doc2):    #5. Удаление существующей полки (ds)\n",
    "    shelf_num=input('Введите номер полки\\n')\n",
    "    if shelf_num in doc2.keys():\n",
    "        if len(doc2[shelf_num]) >0:\n",
    "            print('На полке есть документы, удалите их перед удалением полок.\\nТекущий перечень полок:', list(doc2.keys()))\n",
    "        else:\n",
    "            del doc2[shelf_num]\n",
    "            print('Полка удалена.\\nТекущий перечень полок:', list(doc2.keys()))\n",
    "    else:\n",
    "        print('Такой полки не существует.\\nТекущий перечень полок:', list(doc2.keys()))\n",
    "        \n",
    "\n",
    "def main(doc, doc2):\n",
    "    while True:\n",
    "        command=input('Введите комманду:\\n')\n",
    "        if command == 'p':\n",
    "            print(doc_owner(doc))\n",
    "        elif command == 's':\n",
    "            print(doc_place(doc2))\n",
    "        elif command == 'l':\n",
    "            print(doc_all(doc, doc2))\n",
    "        elif command == 'ads':\n",
    "            print(doc_add(doc, doc2))\n",
    "        elif command == 'ds':\n",
    "            print(doc_dell(doc2))\n",
    "        elif command == 'q':\n",
    "            print('конец программы')\n",
    "            break"
   ]
  },
  {
   "cell_type": "code",
   "execution_count": 31,
   "metadata": {},
   "outputs": [
    {
     "name": "stdout",
     "output_type": "stream",
     "text": [
      "Введите комманду:\n",
      "д\n",
      "Введите комманду:\n",
      "l\n",
      "[{'№': '2207 876234', 'тип': 'passport', 'владелец': 'Василий Гупкин', 'полка хранения': '1'}, {'№': '11-2', 'тип': 'invoice', 'владелец': 'Геннадий Покемонов', 'полка хранения': '1'}, {'№': '10006', 'тип': 'insurance', 'владелец': 'Аристарх Павлов', 'полка хранения': '2'}]\n",
      "Введите комманду:\n",
      "q\n",
      "конец программы\n"
     ]
    }
   ],
   "source": [
    "main(documents, directories)"
   ]
  }
 ],
 "metadata": {
  "kernelspec": {
   "display_name": "Python 3",
   "language": "python",
   "name": "python3"
  },
  "language_info": {
   "codemirror_mode": {
    "name": "ipython",
    "version": 3
   },
   "file_extension": ".py",
   "mimetype": "text/x-python",
   "name": "python",
   "nbconvert_exporter": "python",
   "pygments_lexer": "ipython3",
   "version": "3.8.5"
  }
 },
 "nbformat": 4,
 "nbformat_minor": 4
}
